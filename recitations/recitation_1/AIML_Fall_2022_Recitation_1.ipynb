{
 "cells": [
  {
   "cell_type": "markdown",
   "metadata": {},
   "source": [
    "# 24787 Recitation 1 : Installation, basics of Python, Numpy and Matplotlib\n",
    "\n"
   ]
  },
  {
   "cell_type": "markdown",
   "metadata": {},
   "source": [
    "## Installation"
   ]
  },
  {
   "cell_type": "markdown",
   "metadata": {},
   "source": [
    "We will be using Jupyter notebooks for this course. Before we dive into numpy, vectorization and python basics please make sure that you have python3 installed in your computer. For python installation we would prefer the anaconda distribution."
   ]
  },
  {
   "cell_type": "markdown",
   "metadata": {},
   "source": [
    "Visit the webpage: https://www.anaconda.com/distribution and follow the instructions. Make sure you install python3, since python2 is no longer supported."
   ]
  },
  {
   "cell_type": "markdown",
   "metadata": {},
   "source": [
    "# Python basics"
   ]
  },
  {
   "cell_type": "markdown",
   "metadata": {},
   "source": [
    "### Writing a comment"
   ]
  },
  {
   "cell_type": "code",
   "execution_count": 1,
   "metadata": {},
   "outputs": [],
   "source": [
    "# This is how you comment things out. Type '#' followed by your text"
   ]
  },
  {
   "cell_type": "code",
   "execution_count": 2,
   "metadata": {},
   "outputs": [],
   "source": [
    "# Here is another example of a comment"
   ]
  },
  {
   "cell_type": "code",
   "execution_count": 3,
   "metadata": {},
   "outputs": [],
   "source": [
    "# Now lets use comments"
   ]
  },
  {
   "cell_type": "code",
   "execution_count": 4,
   "metadata": {
    "scrolled": true
   },
   "outputs": [
    {
     "name": "stdout",
     "output_type": "stream",
     "text": [
      "3\n",
      "-1\n",
      "2\n",
      "0.5\n",
      "1\n",
      "3\n",
      "8\n"
     ]
    }
   ],
   "source": [
    "\n",
    "print(1 + 2) # Addition\n",
    "print(1 - 2) # Subtraction\n",
    "print(1 * 2) # Multiplication\n",
    "print(1 / 2) # Division\n",
    "print(10 % 3) # return the remainder\n",
    "print(10 // 3) # return the quotient\n",
    "print(2 ** 3) # number raised to the power"
   ]
  },
  {
   "cell_type": "markdown",
   "metadata": {},
   "source": [
    "### Variables "
   ]
  },
  {
   "cell_type": "markdown",
   "metadata": {},
   "source": [
    "- Variables are assigned with the variable name on the left of the equals sign, and the value on the right of the equals sign. \n",
    "- Variables must be assigned before they can be used.\n",
    "- Can be reassigned any time\n",
    "- Variable name must start with a letter or underscore, cannot start with a number. Case sensitive.\n",
    "- Wrong examples: 2cats, hey@you"
   ]
  },
  {
   "cell_type": "code",
   "execution_count": 5,
   "metadata": {},
   "outputs": [
    {
     "name": "stdout",
     "output_type": "stream",
     "text": [
      "10\n",
      "20\n",
      "30\n",
      "200\n",
      "30\n",
      "30 40\n"
     ]
    }
   ],
   "source": [
    "num_1 = 10\n",
    "num_2 = 20\n",
    "print(num_1)\n",
    "print(num_2)\n",
    "print(num_1 + num_2)\n",
    "print(num_1 * num_2)\n",
    "num_2 = 30\n",
    "print(num_2)\n",
    "Num_2 = 40\n",
    "print(num_2, Num_2)"
   ]
  },
  {
   "cell_type": "markdown",
   "metadata": {},
   "source": [
    "### Data Types"
   ]
  },
  {
   "cell_type": "markdown",
   "metadata": {},
   "source": [
    "- str: a sequence of Unicode characters, like \"friday\"\n",
    "- float: a decimal number\n",
    "- int: an integer\n",
    "- bool : True or False\n",
    "\n",
    "- list: an ordered sequence of values of other data types\n",
    "- dict: a collection of key & values"
   ]
  },
  {
   "cell_type": "code",
   "execution_count": 6,
   "metadata": {},
   "outputs": [],
   "source": [
    "is_it_friday = True # bool"
   ]
  },
  {
   "cell_type": "code",
   "execution_count": null,
   "metadata": {},
   "outputs": [],
   "source": []
  },
  {
   "cell_type": "markdown",
   "metadata": {},
   "source": [
    "- \"==\" operator compares the values and checks for value equality. \n"
   ]
  },
  {
   "cell_type": "code",
   "execution_count": 7,
   "metadata": {},
   "outputs": [
    {
     "name": "stdout",
     "output_type": "stream",
     "text": [
      "True\n",
      "False\n",
      "True\n"
     ]
    }
   ],
   "source": [
    "print(1 != 2) # not equal\n",
    "print(3 != 3)\n",
    "print(4 == 4) # equal to"
   ]
  },
  {
   "cell_type": "code",
   "execution_count": 8,
   "metadata": {},
   "outputs": [
    {
     "data": {
      "text/plain": [
       "True"
      ]
     },
     "execution_count": 8,
     "metadata": {},
     "output_type": "execute_result"
    }
   ],
   "source": [
    "day = 'Friday' # string\n",
    "'Friday' == day"
   ]
  },
  {
   "cell_type": "markdown",
   "metadata": {},
   "source": [
    "### Type and type conversion"
   ]
  },
  {
   "cell_type": "code",
   "execution_count": 9,
   "metadata": {},
   "outputs": [
    {
     "name": "stdout",
     "output_type": "stream",
     "text": [
      "<class 'int'>\n",
      "<class 'float'>\n",
      "<class 'float'>\n"
     ]
    }
   ],
   "source": [
    "print(type(9))\n",
    "print(type(9.0))\n",
    "print(type(1+3.33))"
   ]
  },
  {
   "cell_type": "code",
   "execution_count": 10,
   "metadata": {},
   "outputs": [
    {
     "name": "stdout",
     "output_type": "stream",
     "text": [
      "<class 'float'>\n",
      "12\n",
      "<class 'int'>\n"
     ]
    }
   ],
   "source": [
    "decimal = 12.456435\n",
    "print(type(decimal))\n",
    "decimal = int(decimal)\n",
    "print(decimal)\n",
    "print(type(decimal))\n"
   ]
  },
  {
   "cell_type": "markdown",
   "metadata": {},
   "source": [
    "### Strings\n",
    "\n",
    "- can be declared with either single or double quotes"
   ]
  },
  {
   "cell_type": "code",
   "execution_count": 11,
   "metadata": {},
   "outputs": [
    {
     "name": "stdout",
     "output_type": "stream",
     "text": [
      "1\n",
      "2\n",
      "city : PIT\n",
      "t\n",
      "[' ', ' ', ':', 'I', 'P', 'T', 'c', 'i', 't', 'y']\n",
      "['y', 't', 'i', 'c', 'T', 'P', 'I', ':', ' ', ' ']\n",
      "AI and ML for Engineers: 24787 ! \n",
      "AI and ML for Engineers: 24787 !\n",
      "AI and ML for Engineers: 24787 !\n"
     ]
    }
   ],
   "source": [
    "txt = \"I need more and more holidays\" \n",
    "# count method\n",
    "x = txt.count(\"holidays\") # returns a number equal to the number of occurrences of the word entered\n",
    "y = txt.count(\"more\")\n",
    "print(x)\n",
    "print(y)\n",
    "\n",
    "\n",
    "# String concatenation\n",
    "str_one = \"city\"\n",
    "str_two = \"PIT\"\n",
    "str_all = str_one + \" : \" + str_two\n",
    "print(str_all)\n",
    "print(str_all[2]) #indexing starts from 0\n",
    "\n",
    "# Operations on string\n",
    "str_all_sorted = sorted(str_all)\n",
    "print(str_all_sorted)\n",
    "# Here is an example of sorting in the reverse direction\n",
    "str_all_sorted_reverse = sorted(str_all, reverse = True)\n",
    "print(str_all_sorted_reverse)\n",
    "\n",
    "# Formatting variables\n",
    "course_number = 24787\n",
    "formatted = f\"AI and ML for Engineers: {course_number} ! \" # Python 3.6+\n",
    "formatted2 = \"AI and ML for Engineers: {} !\".format(course_number) # Python 2 -> 3.5\n",
    "print(formatted)\n",
    "print(formatted2)\n",
    "# Another way of printing the same sentence\n",
    "print(\"AI and ML for Engineers:\",course_number, '!')"
   ]
  },
  {
   "cell_type": "markdown",
   "metadata": {},
   "source": [
    "### Length"
   ]
  },
  {
   "cell_type": "code",
   "execution_count": 12,
   "metadata": {},
   "outputs": [
    {
     "name": "stdout",
     "output_type": "stream",
     "text": [
      "6\n"
     ]
    }
   ],
   "source": [
    "day = 'Friday'\n",
    "print(len(day)) # There are 6 characters in the word 'Friday'"
   ]
  },
  {
   "cell_type": "code",
   "execution_count": 13,
   "metadata": {},
   "outputs": [
    {
     "name": "stdout",
     "output_type": "stream",
     "text": [
      "3\n"
     ]
    }
   ],
   "source": [
    "print(len('day'))"
   ]
  },
  {
   "cell_type": "markdown",
   "metadata": {},
   "source": [
    "### Length of a sentence"
   ]
  },
  {
   "cell_type": "code",
   "execution_count": 14,
   "metadata": {},
   "outputs": [
    {
     "name": "stdout",
     "output_type": "stream",
     "text": [
      "24\n"
     ]
    }
   ],
   "source": [
    "print(len('Ah, Welcome 24787 class!')) # space, symbols, numbers are counted as characters"
   ]
  },
  {
   "cell_type": "markdown",
   "metadata": {},
   "source": [
    "# Lists"
   ]
  },
  {
   "cell_type": "code",
   "execution_count": 15,
   "metadata": {},
   "outputs": [
    {
     "name": "stdout",
     "output_type": "stream",
     "text": [
      "<class 'bool'>\n",
      "['AI and ML for Engineers', 24787, 'CIT @ CMU', True]\n",
      "['AI and ML for Engineers', 24787, 'CIT @ CMU', True, 'More objects', ['List inside a list!']]\n",
      "\n",
      "Length before adding another_list 4 \n",
      "\n",
      "Length after adding another_list 6 \n",
      "\n",
      "['AI and ML for Engineers', 24787, 'CIT @ CMU', True, 'More objects', ['List inside a list!'], 'More objects', ['List inside a list!']]\n"
     ]
    }
   ],
   "source": [
    "# Lists - can store anything\n",
    "list_of_things = [] # Initializing an empty list\n",
    "list_of_things = ['AI and ML for Engineers'] \n",
    "list_of_things.append(24787)\n",
    "list_of_things.append('CIT @ CMU')\n",
    "list_of_things.append(True)\n",
    "\n",
    "# Accessing objects\n",
    "print(type(list_of_things[3]))\n",
    "\n",
    "# Print the list\n",
    "print(list_of_things)\n",
    "\n",
    "# Create another list\n",
    "another_list = ['More objects', ['List inside a list!']]\n",
    "\n",
    "# Merge the lists\n",
    "third_lists = list_of_things + another_list\n",
    "print(third_lists)\n",
    "\n",
    "# Extend list_of_things\n",
    "print('\\nLength before adding another_list',len(list_of_things),'\\n')\n",
    "list_of_things.extend(another_list)\n",
    "print('Length after adding another_list',len(list_of_things),'\\n')\n",
    "\n",
    "list_of_things+=another_list # list_of_things = list_of_things + another_list\n",
    "print(list_of_things)\n"
   ]
  },
  {
   "cell_type": "markdown",
   "metadata": {},
   "source": [
    "### List slicing and join"
   ]
  },
  {
   "cell_type": "markdown",
   "metadata": {},
   "source": [
    "#### some_list[start : end : step]: like range but separated by colons"
   ]
  },
  {
   "cell_type": "code",
   "execution_count": 16,
   "metadata": {},
   "outputs": [
    {
     "name": "stdout",
     "output_type": "stream",
     "text": [
      "6\n",
      "red\n",
      "['red', 'blue', 'green', 'yellow', 'purple']\n",
      "['red', 'blue', 'green', 'yellow', 'purple']\n",
      "['green', 'yellow', 'purple']\n",
      "['green', 'yellow', 'purple', 'indigo']\n",
      "['red', 'green', 'purple']\n",
      "['indigo', 'purple', 'yellow', 'green', 'blue', 'red']\n",
      "ogidni\n",
      "Python.Is.Great\n"
     ]
    }
   ],
   "source": [
    "colors = ['red','blue','green','yellow','purple','indigo']\n",
    "print(len(colors))\n",
    "# Python indices start at 0\n",
    "print(colors[0])\n",
    "print(colors[:5])\n",
    "print(colors[0:5])\n",
    "print(colors[2:-1])\n",
    "print(colors[2:])\n",
    "print(colors[::2])\n",
    "print(colors[::-1])\n",
    "print(colors[5][::-1])\n",
    "\n",
    "# Join (a string method)\n",
    "words = [\"Python\",\"Is\",\"Great\"]\n",
    "words =\".\".join(words)\n",
    "print(words)\n"
   ]
  },
  {
   "cell_type": "markdown",
   "metadata": {},
   "source": [
    "### Boolean and condition"
   ]
  },
  {
   "cell_type": "markdown",
   "metadata": {},
   "source": [
    "#### Exercise:\n",
    "- age < 18 : cannot vote\n",
    "- age => 18 : can vote"
   ]
  },
  {
   "cell_type": "code",
   "execution_count": 17,
   "metadata": {},
   "outputs": [
    {
     "name": "stdout",
     "output_type": "stream",
     "text": [
      "You can vote!\n"
     ]
    }
   ],
   "source": [
    "age = 21\n",
    "if age < 18:\n",
    "    print(\"Sorry, you cannot vote!\")\n",
    "else:\n",
    "    print(\"You can vote!\")"
   ]
  },
  {
   "cell_type": "markdown",
   "metadata": {},
   "source": [
    "### if elif else"
   ]
  },
  {
   "cell_type": "code",
   "execution_count": 18,
   "metadata": {
    "scrolled": true
   },
   "outputs": [
    {
     "name": "stdout",
     "output_type": "stream",
     "text": [
      "Thats new!\n"
     ]
    }
   ],
   "source": [
    "color = 'yellow'\n",
    "if color == \"purple\":\n",
    "    print(\"great choice\")\n",
    "elif color == \"red\":\n",
    "    print(\"I like how you think\")\n",
    "elif color == \"pink\":\n",
    "    print(\"not bad\")\n",
    "else:\n",
    "    print('Thats new!')"
   ]
  },
  {
   "cell_type": "markdown",
   "metadata": {},
   "source": [
    "### Looping"
   ]
  },
  {
   "cell_type": "markdown",
   "metadata": {},
   "source": [
    "#### General Form :\n",
    "#### for item in iterable_object:\n",
    "      do something with item\n",
    "    \n",
    "- item is a new variable that you can call it whatever\n",
    "- item references the current position of our iterator within the iterable"
   ]
  },
  {
   "cell_type": "markdown",
   "metadata": {},
   "source": [
    "### Ranges"
   ]
  },
  {
   "cell_type": "markdown",
   "metadata": {},
   "source": [
    "- A range is just a slice of number line.\n",
    "- Ex: range (1,8) will give you integers from 1 to 7"
   ]
  },
  {
   "cell_type": "code",
   "execution_count": 19,
   "metadata": {},
   "outputs": [
    {
     "name": "stdout",
     "output_type": "stream",
     "text": [
      "[0, 1, 2, 3, 4, 5, 6, 7, 8, 9]\n",
      "[1, 2, 3, 4, 5, 6, 7, 8, 9]\n",
      "[1, 3, 5, 7, 9]\n",
      "[0, 2, 4, 6, 8]\n"
     ]
    }
   ],
   "source": [
    "numbers = range(10)\n",
    "print(list(numbers)) # It starts with zero and excludes the number 10\n",
    "numbers = range(1,10)\n",
    "print(list(numbers)) # It starts with one and excludes the number 10\n",
    "odd = range(1,10,2) # start, end, step\n",
    "print(list(odd)) #It starts with 1 and takes a step of 2\n",
    "even = range(0,10,2) # start, end, step\n",
    "print(list(even)) #It starts with 0 and takes a step of 2"
   ]
  },
  {
   "cell_type": "markdown",
   "metadata": {},
   "source": [
    "#### Exercise: Use a for loop for add up every odd number from 10 to 20 (inclusive)"
   ]
  },
  {
   "cell_type": "code",
   "execution_count": 20,
   "metadata": {},
   "outputs": [
    {
     "name": "stdout",
     "output_type": "stream",
     "text": [
      "11\n",
      "13\n",
      "15\n",
      "17\n",
      "19\n",
      "Sum of the numbers:  75\n"
     ]
    }
   ],
   "source": [
    "add = 0\n",
    "for n in range(10, 21):  #remember range is exclusive, so we have to go up to 21\n",
    "    if n % 2 != 0: # % means mod\n",
    "        add = add + n\n",
    "        print(n)\n",
    "print('Sum of the numbers: ',add)     "
   ]
  },
  {
   "cell_type": "markdown",
   "metadata": {},
   "source": [
    "### While Loop and using \"len\""
   ]
  },
  {
   "cell_type": "code",
   "execution_count": 21,
   "metadata": {},
   "outputs": [
    {
     "name": "stdout",
     "output_type": "stream",
     "text": [
      "1\n",
      "2\n",
      "3\n",
      "4\n"
     ]
    }
   ],
   "source": [
    "numbers = [1,2,3,4]\n",
    "i=0\n",
    "while i < len(numbers):\n",
    "    print(numbers[i])\n",
    "    i+=1"
   ]
  },
  {
   "cell_type": "markdown",
   "metadata": {},
   "source": [
    "### List Comprehension:"
   ]
  },
  {
   "cell_type": "markdown",
   "metadata": {},
   "source": [
    "- A shorthand syntax that allows us to generate new lists"
   ]
  },
  {
   "cell_type": "markdown",
   "metadata": {},
   "source": [
    "Looping vs List Comprehension"
   ]
  },
  {
   "cell_type": "code",
   "execution_count": 22,
   "metadata": {},
   "outputs": [
    {
     "name": "stdout",
     "output_type": "stream",
     "text": [
      "[2, 4, 6, 8, 10]\n"
     ]
    }
   ],
   "source": [
    "numbers = [1,2,3,4,5]\n",
    "doubled_numbers = []\n",
    "\n",
    "for num in numbers:\n",
    "    doubled_numbers.append(num * 2)\n",
    "    \n",
    "print(doubled_numbers)"
   ]
  },
  {
   "cell_type": "code",
   "execution_count": 23,
   "metadata": {},
   "outputs": [
    {
     "name": "stdout",
     "output_type": "stream",
     "text": [
      "[2, 4, 6, 8, 10]\n"
     ]
    }
   ],
   "source": [
    "numbers = [1,2,3,4,5]\n",
    "\n",
    "doubled_numbers = [num * 2 for num in numbers]\n",
    "    \n",
    "print(doubled_numbers)"
   ]
  },
  {
   "cell_type": "code",
   "execution_count": 24,
   "metadata": {},
   "outputs": [
    {
     "name": "stdout",
     "output_type": "stream",
     "text": [
      "[4, 6, 8, 10] [5, 7, 9]\n"
     ]
    }
   ],
   "source": [
    "numbers = [4,5,6,7,8,9,10]\n",
    "evens = [num for num in numbers if num % 2 == 0]\n",
    "odds = [num for num in numbers if num % 2 != 0]\n",
    "print(evens, odds)"
   ]
  },
  {
   "cell_type": "markdown",
   "metadata": {},
   "source": [
    "### Dictionaries"
   ]
  },
  {
   "cell_type": "markdown",
   "metadata": {},
   "source": [
    "- A data structure that contains key-value pairs\n",
    "- Keys and values are separated by colons\n",
    "- Keys are almost always numbers or strings\n",
    "- Note: dictionary doesnt have a specific order, unlike a list\n",
    "\n",
    "- update: Update keys and values in a dict with another set of key value pairs."
   ]
  },
  {
   "cell_type": "code",
   "execution_count": 25,
   "metadata": {},
   "outputs": [
    {
     "name": "stdout",
     "output_type": "stream",
     "text": [
      "{'a': 1, 'b': 2, 'c': 3, 'd': 4}\n",
      "{'a': 'entry', 'b': 2, 'c': 3, 'd': 4}\n"
     ]
    }
   ],
   "source": [
    "first = dict(a=1,b=2,c=3,d=4)\n",
    "second = {}\n",
    "second.update(first)\n",
    "print(second)\n",
    "# Overwrite an existing ket\n",
    "second[\"a\"]= \"entry\"\n",
    "print(second)"
   ]
  },
  {
   "cell_type": "code",
   "execution_count": 26,
   "metadata": {},
   "outputs": [
    {
     "name": "stdout",
     "output_type": "stream",
     "text": [
      "{'founder': 'Andrew Carnegie', 'private school?': True, 'acceptance rate': 0.2, 4: 'number of other campuses'}\n",
      "Andrew Carnegie\n"
     ]
    },
    {
     "ename": "KeyError",
     "evalue": "'mascot'",
     "output_type": "error",
     "traceback": [
      "\u001b[0;31m---------------------------------------------------------------------------\u001b[0m",
      "\u001b[0;31mKeyError\u001b[0m                                  Traceback (most recent call last)",
      "Input \u001b[0;32mIn [26]\u001b[0m, in \u001b[0;36m<cell line: 9>\u001b[0;34m()\u001b[0m\n\u001b[1;32m      7\u001b[0m \u001b[38;5;28mprint\u001b[39m(cmu)\n\u001b[1;32m      8\u001b[0m \u001b[38;5;28mprint\u001b[39m(cmu[\u001b[38;5;124m\"\u001b[39m\u001b[38;5;124mfounder\u001b[39m\u001b[38;5;124m\"\u001b[39m])\n\u001b[0;32m----> 9\u001b[0m \u001b[38;5;28mprint\u001b[39m(\u001b[43mcmu\u001b[49m\u001b[43m[\u001b[49m\u001b[38;5;124;43m\"\u001b[39;49m\u001b[38;5;124;43mmascot\u001b[39;49m\u001b[38;5;124;43m\"\u001b[39;49m\u001b[43m]\u001b[49m)\n",
      "\u001b[0;31mKeyError\u001b[0m: 'mascot'"
     ]
    }
   ],
   "source": [
    "cmu = {\n",
    "    'founder': \"Andrew Carnegie\",\n",
    "    'private school?': True,\n",
    "    'acceptance rate':0.2,\n",
    "     4:\"number of other campuses\"\n",
    "}\n",
    "print(cmu)\n",
    "print(cmu[\"founder\"])\n",
    "print(cmu[\"mascot\"])"
   ]
  },
  {
   "cell_type": "markdown",
   "metadata": {},
   "source": [
    "### Accessing all values in a dictionary"
   ]
  },
  {
   "cell_type": "markdown",
   "metadata": {},
   "source": [
    "- Access value: Use .values()"
   ]
  },
  {
   "cell_type": "code",
   "execution_count": 27,
   "metadata": {
    "scrolled": true
   },
   "outputs": [
    {
     "name": "stdout",
     "output_type": "stream",
     "text": [
      "Andrew Carnegie\n",
      "True\n",
      "0.2\n",
      "number of other campuses\n"
     ]
    }
   ],
   "source": [
    "for value in cmu.values():\n",
    "    print(value)"
   ]
  },
  {
   "cell_type": "markdown",
   "metadata": {},
   "source": [
    "- Access key: Use .keys()"
   ]
  },
  {
   "cell_type": "code",
   "execution_count": 28,
   "metadata": {
    "scrolled": true
   },
   "outputs": [
    {
     "name": "stdout",
     "output_type": "stream",
     "text": [
      "founder\n",
      "private school?\n",
      "acceptance rate\n",
      "4\n"
     ]
    }
   ],
   "source": [
    "for key in cmu.keys():\n",
    "    print(key)"
   ]
  },
  {
   "cell_type": "markdown",
   "metadata": {},
   "source": [
    "- Access both: .items()"
   ]
  },
  {
   "cell_type": "code",
   "execution_count": 29,
   "metadata": {
    "scrolled": true
   },
   "outputs": [
    {
     "name": "stdout",
     "output_type": "stream",
     "text": [
      "founder : Andrew Carnegie\n",
      "private school? : True\n",
      "acceptance rate : 0.2\n",
      "4 : number of other campuses\n"
     ]
    }
   ],
   "source": [
    "for key,value in cmu.items():\n",
    "    print(key, \":\", value)"
   ]
  },
  {
   "cell_type": "markdown",
   "metadata": {},
   "source": [
    "- Test if a key exists: Use \"in\""
   ]
  },
  {
   "cell_type": "code",
   "execution_count": 30,
   "metadata": {
    "scrolled": true
   },
   "outputs": [
    {
     "name": "stdout",
     "output_type": "stream",
     "text": [
      "True\n",
      "False\n"
     ]
    }
   ],
   "source": [
    "print(\"founder\" in cmu)\n",
    "print(\"good sleep\" in cmu)"
   ]
  },
  {
   "cell_type": "markdown",
   "metadata": {},
   "source": [
    "### Dictionary Methods"
   ]
  },
  {
   "cell_type": "markdown",
   "metadata": {},
   "source": [
    "- pop: Takes a single argument corresponding to a key and removes that key-value pair from the dict. Returns the value corresponding to the key that was removed."
   ]
  },
  {
   "cell_type": "code",
   "execution_count": 31,
   "metadata": {},
   "outputs": [
    {
     "ename": "TypeError",
     "evalue": "pop expected at least 1 argument, got 0",
     "output_type": "error",
     "traceback": [
      "\u001b[0;31m---------------------------------------------------------------------------\u001b[0m",
      "\u001b[0;31mTypeError\u001b[0m                                 Traceback (most recent call last)",
      "Input \u001b[0;32mIn [31]\u001b[0m, in \u001b[0;36m<cell line: 3>\u001b[0;34m()\u001b[0m\n\u001b[1;32m      1\u001b[0m d \u001b[38;5;241m=\u001b[39m \u001b[38;5;28mdict\u001b[39m(a\u001b[38;5;241m=\u001b[39m\u001b[38;5;241m1\u001b[39m,b\u001b[38;5;241m=\u001b[39m\u001b[38;5;241m2\u001b[39m,c\u001b[38;5;241m=\u001b[39m\u001b[38;5;241m3\u001b[39m)\n\u001b[1;32m      2\u001b[0m d\u001b[38;5;241m.\u001b[39mpop(\u001b[38;5;124m\"\u001b[39m\u001b[38;5;124ma\u001b[39m\u001b[38;5;124m\"\u001b[39m) \u001b[38;5;66;03m# 1\u001b[39;00m\n\u001b[0;32m----> 3\u001b[0m \u001b[43md\u001b[49m\u001b[38;5;241;43m.\u001b[39;49m\u001b[43mpop\u001b[49m\u001b[43m(\u001b[49m\u001b[43m)\u001b[49m\n",
      "\u001b[0;31mTypeError\u001b[0m: pop expected at least 1 argument, got 0"
     ]
    }
   ],
   "source": [
    "d = dict(a=1,b=2,c=3)\n",
    "d.pop(\"a\") # 1\n",
    "d.pop() # TypeError: pop expected at least 1 arguement"
   ]
  },
  {
   "cell_type": "markdown",
   "metadata": {},
   "source": [
    "## Introductory Example: Implementing with Lists "
   ]
  },
  {
   "cell_type": "markdown",
   "metadata": {},
   "source": [
    "This blog provides a good explanation of the difference between a list and an array : https://medium.com/backticks-tildes/list-vs-array-python-data-type-40ac4f294551"
   ]
  },
  {
   "cell_type": "code",
   "execution_count": 32,
   "metadata": {},
   "outputs": [
    {
     "name": "stdout",
     "output_type": "stream",
     "text": [
      "[38, 39, 40]\n"
     ]
    }
   ],
   "source": [
    "# Inputs\n",
    "# Now that we know what a list is lets use it to do a simple calculation\n",
    "theta_1 = [[2, 1, 3],\n",
    "     [1, 2, 3],\n",
    "     [3, 1, 2]]\n",
    "\n",
    "x = [7, 8, 5]\n",
    "theta_0 = [1, 1, 1]\n",
    "\n",
    "# Output\n",
    "y = [0, 0, 0]\n",
    "\n",
    "# Computation of y = theta_1*x + theta_0\n",
    "for i in range(len(theta_1)):\n",
    "    for j in range(len(x)):\n",
    "        y[i] = y[i]+theta_1[i][j] * x[j]\n",
    "    y[i] = y[i] + (theta_0[i])\n",
    "\n",
    "print(y)"
   ]
  },
  {
   "cell_type": "markdown",
   "metadata": {},
   "source": [
    "- What is NumPy?"
   ]
  },
  {
   "cell_type": "markdown",
   "metadata": {},
   "source": [
    "If you have installed Anaconda correctly, Numpy should come with it. Just in case, if numpy is not installed please follow instructions at https://scipy.org/install.html"
   ]
  },
  {
   "cell_type": "markdown",
   "metadata": {},
   "source": [
    "### NumPy-based Vectorized Implementation"
   ]
  },
  {
   "cell_type": "code",
   "execution_count": 33,
   "metadata": {},
   "outputs": [],
   "source": [
    "import numpy as np"
   ]
  },
  {
   "cell_type": "code",
   "execution_count": 34,
   "metadata": {},
   "outputs": [
    {
     "data": {
      "text/plain": [
       "(3, 3)"
      ]
     },
     "execution_count": 34,
     "metadata": {},
     "output_type": "execute_result"
    }
   ],
   "source": [
    "theta_1 = np.array([\n",
    "     [2, 1, 3],\n",
    "     [1, 2, 3],\n",
    "     [3, 1, 2]])\n",
    "theta_1.shape"
   ]
  },
  {
   "cell_type": "code",
   "execution_count": 35,
   "metadata": {},
   "outputs": [
    {
     "data": {
      "text/plain": [
       "(3,)"
      ]
     },
     "execution_count": 35,
     "metadata": {},
     "output_type": "execute_result"
    }
   ],
   "source": [
    "x = np.array([7, 8, 5])\n",
    "x.shape"
   ]
  },
  {
   "cell_type": "code",
   "execution_count": 36,
   "metadata": {},
   "outputs": [
    {
     "data": {
      "text/plain": [
       "array([1., 1., 1.])"
      ]
     },
     "execution_count": 36,
     "metadata": {},
     "output_type": "execute_result"
    }
   ],
   "source": [
    "theta_0 = np.ones(3)\n",
    "theta_0"
   ]
  },
  {
   "cell_type": "code",
   "execution_count": 37,
   "metadata": {},
   "outputs": [
    {
     "data": {
      "text/plain": [
       "array([37, 38, 39])"
      ]
     },
     "execution_count": 37,
     "metadata": {},
     "output_type": "execute_result"
    }
   ],
   "source": [
    "theta_1.dot(x)"
   ]
  },
  {
   "cell_type": "code",
   "execution_count": 38,
   "metadata": {},
   "outputs": [
    {
     "data": {
      "text/plain": [
       "array([37, 38, 39])"
      ]
     },
     "execution_count": 38,
     "metadata": {},
     "output_type": "execute_result"
    }
   ],
   "source": [
    "np.matmul(theta_1,x)"
   ]
  },
  {
   "cell_type": "code",
   "execution_count": 39,
   "metadata": {},
   "outputs": [
    {
     "data": {
      "text/plain": [
       "array([38., 39., 40.])"
      ]
     },
     "execution_count": 39,
     "metadata": {},
     "output_type": "execute_result"
    }
   ],
   "source": [
    "np.matmul(theta_1,x) + theta_0"
   ]
  },
  {
   "cell_type": "code",
   "execution_count": 40,
   "metadata": {},
   "outputs": [
    {
     "data": {
      "text/plain": [
       "array([38., 39., 40.])"
      ]
     },
     "execution_count": 40,
     "metadata": {},
     "output_type": "execute_result"
    }
   ],
   "source": [
    "theta_1@x + theta_0"
   ]
  },
  {
   "cell_type": "markdown",
   "metadata": {},
   "source": [
    "## Multi-Dimensional Arrays"
   ]
  },
  {
   "cell_type": "code",
   "execution_count": 41,
   "metadata": {
    "scrolled": true
   },
   "outputs": [
    {
     "data": {
      "text/plain": [
       "array([[[0.74352364, 0.72170527, 0.90660954, 0.92398433],\n",
       "        [0.6794893 , 0.28233503, 0.80828847, 0.48589326]],\n",
       "\n",
       "       [[0.3389715 , 0.73939053, 0.47179437, 0.67117851],\n",
       "        [0.38662177, 0.92529357, 0.68402508, 0.6094841 ]],\n",
       "\n",
       "       [[0.80065492, 0.80644314, 0.05154411, 0.37979272],\n",
       "        [0.87414192, 0.31567109, 0.27804046, 0.55140446]],\n",
       "\n",
       "       [[0.23606484, 0.80282376, 0.55542083, 0.37731303],\n",
       "        [0.8861242 , 0.93913483, 0.81070901, 0.93741068]]])"
      ]
     },
     "execution_count": 41,
     "metadata": {},
     "output_type": "execute_result"
    }
   ],
   "source": [
    "T = np.random.random((4,2,4)) # Creates an array of random numbers between 0 and 1 of the given shape\n",
    "T"
   ]
  },
  {
   "cell_type": "markdown",
   "metadata": {},
   "source": [
    "### Random seed"
   ]
  },
  {
   "cell_type": "code",
   "execution_count": 42,
   "metadata": {},
   "outputs": [
    {
     "name": "stdout",
     "output_type": "stream",
     "text": [
      "[[0.19332095 0.00729475]\n",
      " [0.01255098 0.87288682]]\n",
      "[[0.76643613 0.23417987]\n",
      " [0.68789336 0.3656141 ]]\n"
     ]
    }
   ],
   "source": [
    "T = np.random.random((2,2)) # Creates an array of random numbers between 0 and 1 of the given shape\n",
    "print(T)\n",
    "\n",
    "np.random.seed(24878)\n",
    "T = np.random.random((2,2)) # Now, all the random numbers are fixed as per the seed\n",
    "print(T)"
   ]
  },
  {
   "cell_type": "code",
   "execution_count": 43,
   "metadata": {},
   "outputs": [
    {
     "name": "stdout",
     "output_type": "stream",
     "text": [
      "[[0.76643613 0.23417987]\n",
      " [0.68789336 0.3656141 ]]\n"
     ]
    }
   ],
   "source": [
    "np.random.seed(24878)\n",
    "T = np.random.random((2,2))\n",
    "print(T)"
   ]
  },
  {
   "cell_type": "code",
   "execution_count": 44,
   "metadata": {},
   "outputs": [
    {
     "data": {
      "text/plain": [
       "((2,), dtype('float64'))"
      ]
     },
     "execution_count": 44,
     "metadata": {},
     "output_type": "execute_result"
    }
   ],
   "source": [
    "W = T[1]\n",
    "W.shape, W.dtype"
   ]
  },
  {
   "cell_type": "code",
   "execution_count": 45,
   "metadata": {},
   "outputs": [
    {
     "data": {
      "text/plain": [
       "((4, 3),\n",
       " dtype('int32'),\n",
       " array([[24787, 24787, 24787],\n",
       "        [24787, 24787, 24787],\n",
       "        [24787, 24787, 24787],\n",
       "        [24787, 24787, 24787]], dtype=int32))"
      ]
     },
     "execution_count": 45,
     "metadata": {},
     "output_type": "execute_result"
    }
   ],
   "source": [
    "X = np.full((4,3), 24787, dtype=np.int32) # prints out the same in all dimension # remember it is a matrix multiplication for 2D \n",
    "X.shape, X.dtype,X"
   ]
  },
  {
   "cell_type": "markdown",
   "metadata": {},
   "source": [
    "## Basic Element-wise Operations"
   ]
  },
  {
   "cell_type": "code",
   "execution_count": 46,
   "metadata": {
    "scrolled": true
   },
   "outputs": [
    {
     "name": "stdout",
     "output_type": "stream",
     "text": [
      "[0 1 2 3 4] [0 1 2 3 4]\n"
     ]
    }
   ],
   "source": [
    "y = np.arange(5)\n",
    "print(y, np.array(range(5)))"
   ]
  },
  {
   "cell_type": "code",
   "execution_count": 47,
   "metadata": {},
   "outputs": [
    {
     "data": {
      "text/plain": [
       "array([ True,  True,  True,  True,  True])"
      ]
     },
     "execution_count": 47,
     "metadata": {},
     "output_type": "execute_result"
    }
   ],
   "source": [
    "y == np.array(range(5))"
   ]
  },
  {
   "cell_type": "code",
   "execution_count": 48,
   "metadata": {},
   "outputs": [
    {
     "data": {
      "text/plain": [
       "array([1, 2, 3, 4, 5])"
      ]
     },
     "execution_count": 48,
     "metadata": {},
     "output_type": "execute_result"
    }
   ],
   "source": [
    "y + 1"
   ]
  },
  {
   "cell_type": "code",
   "execution_count": 49,
   "metadata": {},
   "outputs": [
    {
     "data": {
      "text/plain": [
       "array([ 0, 10, 20, 30, 40])"
      ]
     },
     "execution_count": 49,
     "metadata": {},
     "output_type": "execute_result"
    }
   ],
   "source": [
    "y * 10"
   ]
  },
  {
   "cell_type": "code",
   "execution_count": 50,
   "metadata": {},
   "outputs": [
    {
     "data": {
      "text/plain": [
       "array([ 1,  4,  9, 16, 25])"
      ]
     },
     "execution_count": 50,
     "metadata": {},
     "output_type": "execute_result"
    }
   ],
   "source": [
    "(y + 1)**2"
   ]
  },
  {
   "cell_type": "code",
   "execution_count": 51,
   "metadata": {},
   "outputs": [
    {
     "data": {
      "text/plain": [
       "array([0, 2, 4, 6, 8])"
      ]
     },
     "execution_count": 51,
     "metadata": {},
     "output_type": "execute_result"
    }
   ],
   "source": [
    "y + y"
   ]
  },
  {
   "cell_type": "code",
   "execution_count": 52,
   "metadata": {},
   "outputs": [
    {
     "data": {
      "text/plain": [
       "array([0.        , 0.5       , 0.66666667, 0.75      , 0.8       ])"
      ]
     },
     "execution_count": 52,
     "metadata": {},
     "output_type": "execute_result"
    }
   ],
   "source": [
    "y / (y + 1)"
   ]
  },
  {
   "cell_type": "code",
   "execution_count": 53,
   "metadata": {},
   "outputs": [
    {
     "data": {
      "text/plain": [
       "array([0., 1., 2., 3., 4.])"
      ]
     },
     "execution_count": 53,
     "metadata": {},
     "output_type": "execute_result"
    }
   ],
   "source": [
    "np.sqrt(y**2)"
   ]
  },
  {
   "cell_type": "code",
   "execution_count": 54,
   "metadata": {},
   "outputs": [
    {
     "data": {
      "text/plain": [
       "(4, 0, 10)"
      ]
     },
     "execution_count": 54,
     "metadata": {},
     "output_type": "execute_result"
    }
   ],
   "source": [
    "np.max(y), np.min(y), np.sum(y)"
   ]
  },
  {
   "cell_type": "markdown",
   "metadata": {},
   "source": [
    "## Indexing NumPy Arrays"
   ]
  },
  {
   "cell_type": "code",
   "execution_count": 55,
   "metadata": {
    "scrolled": true
   },
   "outputs": [
    {
     "data": {
      "text/plain": [
       "(array([[ 0,  1,  2,  3],\n",
       "        [ 4,  5,  6,  7],\n",
       "        [ 8,  9, 10, 11],\n",
       "        [12, 13, 14, 15]]),\n",
       " (4, 4))"
      ]
     },
     "execution_count": 55,
     "metadata": {},
     "output_type": "execute_result"
    }
   ],
   "source": [
    "T =  np.arange(16).reshape(4,4)\n",
    "T,  T.shape"
   ]
  },
  {
   "cell_type": "code",
   "execution_count": 56,
   "metadata": {},
   "outputs": [
    {
     "data": {
      "text/plain": [
       "array([0, 1, 2, 3])"
      ]
     },
     "execution_count": 56,
     "metadata": {},
     "output_type": "execute_result"
    }
   ],
   "source": [
    "T[0]"
   ]
  },
  {
   "cell_type": "code",
   "execution_count": 57,
   "metadata": {},
   "outputs": [
    {
     "data": {
      "text/plain": [
       "4"
      ]
     },
     "execution_count": 57,
     "metadata": {},
     "output_type": "execute_result"
    }
   ],
   "source": [
    "T[1,0]  # more efficient version of T[1][0]# a similar approach can be used for N-d arrays "
   ]
  },
  {
   "cell_type": "code",
   "execution_count": 58,
   "metadata": {},
   "outputs": [
    {
     "data": {
      "text/plain": [
       "array([0, 1, 2])"
      ]
     },
     "execution_count": 58,
     "metadata": {},
     "output_type": "execute_result"
    }
   ],
   "source": [
    "T[0,0:3] # selecting the specific elements for operations "
   ]
  },
  {
   "cell_type": "code",
   "execution_count": 59,
   "metadata": {},
   "outputs": [
    {
     "data": {
      "text/plain": [
       "array([[ True, False, False, False],\n",
       "       [False, False, False, False],\n",
       "       [False, False,  True, False],\n",
       "       [False, False, False, False]])"
      ]
     },
     "execution_count": 59,
     "metadata": {},
     "output_type": "execute_result"
    }
   ],
   "source": [
    "(T % 10) == 0"
   ]
  },
  {
   "cell_type": "code",
   "execution_count": 60,
   "metadata": {},
   "outputs": [
    {
     "data": {
      "text/plain": [
       "array([ 0, 10])"
      ]
     },
     "execution_count": 60,
     "metadata": {},
     "output_type": "execute_result"
    }
   ],
   "source": [
    "T[(T % 10) == 0] "
   ]
  },
  {
   "cell_type": "code",
   "execution_count": 61,
   "metadata": {
    "scrolled": false
   },
   "outputs": [
    {
     "data": {
      "text/plain": [
       "array([[0, 1, 2, 3],\n",
       "       [4, 5, 5, 5],\n",
       "       [5, 5, 5, 5],\n",
       "       [5, 5, 5, 5]])"
      ]
     },
     "execution_count": 61,
     "metadata": {},
     "output_type": "execute_result"
    }
   ],
   "source": [
    "np.minimum(T, 5)"
   ]
  },
  {
   "cell_type": "code",
   "execution_count": 62,
   "metadata": {},
   "outputs": [
    {
     "data": {
      "text/plain": [
       "15"
      ]
     },
     "execution_count": 62,
     "metadata": {},
     "output_type": "execute_result"
    }
   ],
   "source": [
    "np.max(T)# please try np.maximum and by following the upper example"
   ]
  },
  {
   "cell_type": "markdown",
   "metadata": {},
   "source": [
    "## Computation Along Axes"
   ]
  },
  {
   "cell_type": "code",
   "execution_count": 63,
   "metadata": {},
   "outputs": [
    {
     "data": {
      "text/plain": [
       "array([[0.43484507, 0.15795619],\n",
       "       [0.77549348, 0.40143293]])"
      ]
     },
     "execution_count": 63,
     "metadata": {},
     "output_type": "execute_result"
    }
   ],
   "source": [
    "A = np.random.random((2,2))\n",
    "A"
   ]
  },
  {
   "cell_type": "code",
   "execution_count": 64,
   "metadata": {
    "scrolled": false
   },
   "outputs": [
    {
     "data": {
      "text/plain": [
       "1.7697276711397136"
      ]
     },
     "execution_count": 64,
     "metadata": {},
     "output_type": "execute_result"
    }
   ],
   "source": [
    "A.sum()# all "
   ]
  },
  {
   "cell_type": "code",
   "execution_count": 65,
   "metadata": {},
   "outputs": [
    {
     "data": {
      "text/plain": [
       "1.7697276711397136"
      ]
     },
     "execution_count": 65,
     "metadata": {},
     "output_type": "execute_result"
    }
   ],
   "source": [
    "np.sum(A)"
   ]
  },
  {
   "cell_type": "code",
   "execution_count": 66,
   "metadata": {
    "scrolled": true
   },
   "outputs": [
    {
     "data": {
      "text/plain": [
       "array([1.21033856, 0.55938911])"
      ]
     },
     "execution_count": 66,
     "metadata": {},
     "output_type": "execute_result"
    }
   ],
   "source": [
    "A.sum(axis=0) # column wise # col1 # col2 #col3"
   ]
  },
  {
   "cell_type": "code",
   "execution_count": 67,
   "metadata": {},
   "outputs": [
    {
     "data": {
      "text/plain": [
       "array([1.21033856, 0.55938911])"
      ]
     },
     "execution_count": 67,
     "metadata": {},
     "output_type": "execute_result"
    }
   ],
   "source": [
    "np.sum(A, axis = 0)"
   ]
  },
  {
   "cell_type": "code",
   "execution_count": 68,
   "metadata": {},
   "outputs": [
    {
     "data": {
      "text/plain": [
       "array([0.59280126, 1.17692641])"
      ]
     },
     "execution_count": 68,
     "metadata": {},
     "output_type": "execute_result"
    }
   ],
   "source": [
    "A.sum(axis=1) # row 1 "
   ]
  },
  {
   "cell_type": "code",
   "execution_count": 69,
   "metadata": {},
   "outputs": [
    {
     "data": {
      "text/plain": [
       "array([0.59280126, 1.17692641])"
      ]
     },
     "execution_count": 69,
     "metadata": {},
     "output_type": "execute_result"
    }
   ],
   "source": [
    "np.sum(A, axis = 1)"
   ]
  },
  {
   "cell_type": "code",
   "execution_count": 70,
   "metadata": {},
   "outputs": [
    {
     "data": {
      "text/plain": [
       "(array([0.77549348, 0.40143293]), array([1, 1]))"
      ]
     },
     "execution_count": 70,
     "metadata": {},
     "output_type": "execute_result"
    }
   ],
   "source": [
    "A.max(axis=0), A.argmax(axis=0)# column# the argmax returns the index where max occurs "
   ]
  },
  {
   "cell_type": "code",
   "execution_count": 71,
   "metadata": {},
   "outputs": [
    {
     "data": {
      "text/plain": [
       "(array([0.77549348, 0.40143293]), array([1, 1]))"
      ]
     },
     "execution_count": 71,
     "metadata": {},
     "output_type": "execute_result"
    }
   ],
   "source": [
    "np.max(A, axis = 0), np.argmax(A, axis = 0)"
   ]
  },
  {
   "cell_type": "markdown",
   "metadata": {},
   "source": [
    "## Combining Arrays: Stacking & Concatenation"
   ]
  },
  {
   "cell_type": "code",
   "execution_count": 72,
   "metadata": {},
   "outputs": [
    {
     "name": "stdout",
     "output_type": "stream",
     "text": [
      "[2 2 2] [4 4 4] [6 6 6]\n"
     ]
    }
   ],
   "source": [
    "a = np.full(3, 2)\n",
    "b = np.full(3, 4)\n",
    "c = np.full(3, 6)\n",
    "print(a, b, c)"
   ]
  },
  {
   "cell_type": "markdown",
   "metadata": {},
   "source": [
    "Stacking creates a new axis. It joins the supplied arrays, which must have the same shape, along that axis.\n",
    "Indexing a single element from that axis returns the appropriate input array."
   ]
  },
  {
   "cell_type": "code",
   "execution_count": 73,
   "metadata": {},
   "outputs": [
    {
     "data": {
      "text/plain": [
       "(array([[2, 4, 6],\n",
       "        [2, 4, 6],\n",
       "        [2, 4, 6]]),\n",
       " (3, 3))"
      ]
     },
     "execution_count": 73,
     "metadata": {},
     "output_type": "execute_result"
    }
   ],
   "source": [
    "B = np.stack([a, b, c], axis=1)\n",
    "B, B.shape"
   ]
  },
  {
   "cell_type": "code",
   "execution_count": 74,
   "metadata": {},
   "outputs": [
    {
     "data": {
      "text/plain": [
       "(array([2, 2, 2, 4, 4, 4, 6, 6, 6]), (9,))"
      ]
     },
     "execution_count": 74,
     "metadata": {},
     "output_type": "execute_result"
    }
   ],
   "source": [
    "B = np.hstack((a, b, c))\n",
    "B, B.shape"
   ]
  },
  {
   "cell_type": "code",
   "execution_count": 75,
   "metadata": {},
   "outputs": [
    {
     "data": {
      "text/plain": [
       "(array([[2, 2, 2],\n",
       "        [4, 4, 4],\n",
       "        [6, 6, 6]]),\n",
       " (3, 3))"
      ]
     },
     "execution_count": 75,
     "metadata": {},
     "output_type": "execute_result"
    }
   ],
   "source": [
    "B = np.vstack((a, b, c))\n",
    "B, B.shape"
   ]
  },
  {
   "cell_type": "code",
   "execution_count": 76,
   "metadata": {},
   "outputs": [
    {
     "data": {
      "text/plain": [
       "array([2, 4, 6])"
      ]
     },
     "execution_count": 76,
     "metadata": {},
     "output_type": "execute_result"
    }
   ],
   "source": [
    "B[:,1]"
   ]
  },
  {
   "cell_type": "markdown",
   "metadata": {},
   "source": [
    "Concatenating arrays joins them along an *existing* aixs."
   ]
  },
  {
   "cell_type": "code",
   "execution_count": 77,
   "metadata": {},
   "outputs": [
    {
     "data": {
      "text/plain": [
       "array([[12, 12, 12, 52, 52, 52],\n",
       "       [14, 14, 14, 54, 54, 54],\n",
       "       [16, 16, 16, 56, 56, 56]])"
      ]
     },
     "execution_count": 77,
     "metadata": {},
     "output_type": "execute_result"
    }
   ],
   "source": [
    "C = np.concatenate([B+10, B+50], axis=1 )\n",
    "C"
   ]
  },
  {
   "cell_type": "markdown",
   "metadata": {},
   "source": [
    "## Transposing and Reshaping"
   ]
  },
  {
   "cell_type": "code",
   "execution_count": 78,
   "metadata": {},
   "outputs": [
    {
     "data": {
      "text/plain": [
       "(array([[12, 12, 12, 52, 52, 52],\n",
       "        [14, 14, 14, 54, 54, 54],\n",
       "        [16, 16, 16, 56, 56, 56]]),\n",
       " (3, 6))"
      ]
     },
     "execution_count": 78,
     "metadata": {},
     "output_type": "execute_result"
    }
   ],
   "source": [
    "C, C.shape"
   ]
  },
  {
   "cell_type": "code",
   "execution_count": 79,
   "metadata": {},
   "outputs": [
    {
     "data": {
      "text/plain": [
       "(array([[12, 14, 16],\n",
       "        [12, 14, 16],\n",
       "        [12, 14, 16],\n",
       "        [52, 54, 56],\n",
       "        [52, 54, 56],\n",
       "        [52, 54, 56]]),\n",
       " (6, 3))"
      ]
     },
     "execution_count": 79,
     "metadata": {},
     "output_type": "execute_result"
    }
   ],
   "source": [
    "CT = C.T\n",
    "CT, CT.shape"
   ]
  },
  {
   "cell_type": "code",
   "execution_count": 80,
   "metadata": {},
   "outputs": [
    {
     "data": {
      "text/plain": [
       "(array([[12, 12],\n",
       "        [12, 52],\n",
       "        [52, 52],\n",
       "        [14, 14],\n",
       "        [14, 54],\n",
       "        [54, 54],\n",
       "        [16, 16],\n",
       "        [16, 56],\n",
       "        [56, 56]]),\n",
       " (9, 2))"
      ]
     },
     "execution_count": 80,
     "metadata": {},
     "output_type": "execute_result"
    }
   ],
   "source": [
    "CR = C.reshape(9, 2)\n",
    "CR, CR.shape # it goes row wise "
   ]
  },
  {
   "cell_type": "markdown",
   "metadata": {},
   "source": [
    "## Saving and Loading"
   ]
  },
  {
   "cell_type": "markdown",
   "metadata": {},
   "source": [
    "### Saving and loading a single NumPy array"
   ]
  },
  {
   "cell_type": "code",
   "execution_count": 81,
   "metadata": {
    "scrolled": true
   },
   "outputs": [
    {
     "name": "stdout",
     "output_type": "stream",
     "text": [
      "[0.12992504 0.45724977 0.71825714 0.89288735 0.10466857]\n"
     ]
    }
   ],
   "source": [
    "# Save single array\n",
    "x = np.random.random((5,))\n",
    "print(x)\n",
    "\n",
    "np.save('tmp.npy', x)"
   ]
  },
  {
   "cell_type": "code",
   "execution_count": 82,
   "metadata": {},
   "outputs": [
    {
     "name": "stdout",
     "output_type": "stream",
     "text": [
      "[0.12992504 0.45724977 0.71825714 0.89288735 0.10466857]\n"
     ]
    }
   ],
   "source": [
    "# Load the array\n",
    "y = np.load('tmp.npy')\n",
    "\n",
    "print(y)"
   ]
  },
  {
   "cell_type": "markdown",
   "metadata": {},
   "source": [
    "### Loading a csv file"
   ]
  },
  {
   "cell_type": "code",
   "execution_count": 83,
   "metadata": {
    "scrolled": true
   },
   "outputs": [
    {
     "name": "stdout",
     "output_type": "stream",
     "text": [
      "['-0.08079', '10']\n",
      "['-0.13378', '10']\n",
      "['-0.00862', '10']\n",
      "['-0.04602', '10']\n",
      "['-0.01998', '10']\n",
      "['-0.0212', '10']\n",
      "['-0.00895', '10']\n",
      "['-0.02897', '10']\n",
      "['-0.02008', '10']\n",
      "['0.00202', '10']\n",
      "['-0.01943', '10']\n",
      "['-0.01903', '10']\n",
      "['-0.00645', '10']\n",
      "['-0.00235', '10']\n",
      "['0.05695', '0']\n",
      "['0.10163', '0']\n",
      "['0.13792', '0']\n",
      "['-0.16741', '110']\n",
      "['0.09675', '110']\n",
      "['0.12613', '110']\n",
      "['0.19621', '110']\n",
      "['0.11198', '110']\n",
      "['0.12281', '110']\n",
      "['0.12198', '110']\n",
      "['0.11859', '110']\n",
      "['-0.08413', '110']\n",
      "['0.07572', '110']\n",
      "['0.0881', '110']\n",
      "['0.09133', '110']\n",
      "['0.17411', '110']\n",
      "['0.22738', '110']\n",
      "['0.16986', '110']\n",
      "['0.19638', '110']\n",
      "['0.08839', '110']\n",
      "['0.17157', '110']\n",
      "['0.16655', '110']\n",
      "['0.18993', '110']\n",
      "['0.06115', '110']\n",
      "['0.12599', '110']\n",
      "['0.19396', '110']\n",
      "['0.14168', '110']\n",
      "['0.0774', '110']\n",
      "['0.16222', '110']\n",
      "['0.14302', '110']\n",
      "['0.20389', '110']\n",
      "['0.14527', '110']\n",
      "['0.08859', '110']\n",
      "['0.13977', '110']\n",
      "['0.17785', '110']\n",
      "['0.02958', '110']\n",
      "['-0.00088', '110']\n",
      "['0.10586', '110']\n",
      "['0.09249', '110']\n",
      "['0.04947', '110']\n",
      "['0.15746', '110']\n",
      "['0.08521', '110']\n",
      "['-0.01344', '110']\n",
      "['0.18974', '110']\n",
      "['0.19554', '110']\n",
      "['0.18589', '110']\n",
      "['0.20867', '110']\n",
      "['0.02813', '110']\n",
      "['0.02775', '110']\n",
      "['-0.07904', '110']\n",
      "['0.14697', '110']\n",
      "['0.05406', '110']\n",
      "['0.00073', '110']\n",
      "['-0.00633', '110']\n",
      "['0.0951', '110']\n",
      "['-0.05711', '110']\n",
      "['0.07355', '112']\n",
      "['0.05525', '112']\n",
      "['0.0574', '123']\n"
     ]
    }
   ],
   "source": [
    "# load csv file\n",
    "import csv\n",
    "with open('imp.csv') as csv_file: \n",
    "    csv_reader = csv.reader(csv_file, delimiter=',')\n",
    "    for row in csv_reader:\n",
    "        print(row)\n",
    "# This is a good starting point \n",
    "# you may want to use this when coding up your homework"
   ]
  },
  {
   "cell_type": "markdown",
   "metadata": {},
   "source": [
    "## Functions"
   ]
  },
  {
   "cell_type": "markdown",
   "metadata": {},
   "source": [
    "Need to add parenthesis after the function name:\n",
    "\n",
    "         def myfunction():"
   ]
  },
  {
   "cell_type": "markdown",
   "metadata": {},
   "source": [
    "#### return: \n",
    "\n",
    "- Exits the function \n",
    "\n",
    "- Outputs whatever value is places after the return keyword"
   ]
  },
  {
   "cell_type": "code",
   "execution_count": 84,
   "metadata": {},
   "outputs": [
    {
     "data": {
      "text/plain": [
       "'Tails'"
      ]
     },
     "execution_count": 84,
     "metadata": {},
     "output_type": "execute_result"
    }
   ],
   "source": [
    "from random import random\n",
    "def flip_coin():\n",
    "    # generates random number 0-1\n",
    "    r = random()\n",
    "    if r > 0.5:\n",
    "        result = \"Heads\"\n",
    "    else: \n",
    "        result = \"Tails\"\n",
    "    \n",
    "    return result\n",
    "\n",
    "flip_coin()"
   ]
  },
  {
   "cell_type": "markdown",
   "metadata": {},
   "source": [
    "#### Accepting input parameters"
   ]
  },
  {
   "cell_type": "code",
   "execution_count": 85,
   "metadata": {},
   "outputs": [
    {
     "data": {
      "text/plain": [
       "20"
      ]
     },
     "execution_count": 85,
     "metadata": {},
     "output_type": "execute_result"
    }
   ],
   "source": [
    "def double(d):\n",
    "\n",
    "    return 2*d\n",
    "\n",
    "double(10)"
   ]
  },
  {
   "cell_type": "markdown",
   "metadata": {},
   "source": [
    "### Default Parameters\n",
    "- Allows you to be more defensive\n",
    "- Avoids errors with incorrect parameters"
   ]
  },
  {
   "cell_type": "code",
   "execution_count": 86,
   "metadata": {},
   "outputs": [
    {
     "data": {
      "text/plain": [
       "30"
      ]
     },
     "execution_count": 86,
     "metadata": {},
     "output_type": "execute_result"
    }
   ],
   "source": [
    "def add(a=10, b=20):\n",
    "    return a+b\n",
    "add()"
   ]
  },
  {
   "cell_type": "markdown",
   "metadata": {},
   "source": [
    "### Keyworded Argument"
   ]
  },
  {
   "cell_type": "markdown",
   "metadata": {},
   "source": [
    "*args: A special operator we can pass to functions. Gathers remaining arguments as a tuple.\n",
    "\n",
    "This is just a parameter. You can call it whatever you want after the \"*\"!"
   ]
  },
  {
   "cell_type": "markdown",
   "metadata": {},
   "source": [
    "Instead of doing:\n",
    "\n",
    "     def sum_all_nums(num1, num2, num3, num4):\n",
    "         return num1+num2+num3+num4"
   ]
  },
  {
   "cell_type": "code",
   "execution_count": 87,
   "metadata": {},
   "outputs": [
    {
     "name": "stdout",
     "output_type": "stream",
     "text": [
      "32\n",
      "10\n"
     ]
    }
   ],
   "source": [
    "def sum_all_nums(*args):\n",
    "    total = 0\n",
    "    for num in args:\n",
    "        total += num\n",
    "    return total\n",
    "\n",
    "print(sum_all_nums(4,6,9,5,8))\n",
    "print(sum_all_nums(4,6))"
   ]
  },
  {
   "cell_type": "markdown",
   "metadata": {},
   "source": [
    "### Lambdas: like a function that has no name (anonymous function)"
   ]
  },
  {
   "cell_type": "code",
   "execution_count": 88,
   "metadata": {},
   "outputs": [
    {
     "name": "stdout",
     "output_type": "stream",
     "text": [
      "49\n"
     ]
    }
   ],
   "source": [
    "def square(num): return num*num\n",
    "square2 = lambda num: num*num # no return\n",
    "print(square2(7))"
   ]
  },
  {
   "cell_type": "markdown",
   "metadata": {},
   "source": [
    "## References"
   ]
  },
  {
   "cell_type": "markdown",
   "metadata": {},
   "source": [
    "You can find a more complete introduction at https://docs.scipy.org/doc/numpy/user/quickstart.html\n",
    "\n",
    "For MATLAB users, this [guide](https://numpy.org/doc/stable/user/numpy-for-matlab-users.html) is useful for transitioning to NumPy."
   ]
  },
  {
   "cell_type": "markdown",
   "metadata": {},
   "source": [
    "# Graph and plotting using Matplotlib"
   ]
  },
  {
   "cell_type": "markdown",
   "metadata": {},
   "source": [
    "Matplotlib is a library used for graphing purpose.\n",
    "You can find a more complete introduction at https://matplotlib.org/tutorials/introductory/pyplot.html"
   ]
  },
  {
   "cell_type": "code",
   "execution_count": 89,
   "metadata": {},
   "outputs": [],
   "source": [
    "import matplotlib.pyplot as plt"
   ]
  },
  {
   "cell_type": "markdown",
   "metadata": {},
   "source": [
    "###  Continuous plot (Generally used for continuous variables)"
   ]
  },
  {
   "cell_type": "markdown",
   "metadata": {},
   "source": [
    "### Here is an example of a simple plot"
   ]
  },
  {
   "cell_type": "code",
   "execution_count": 90,
   "metadata": {},
   "outputs": [
    {
     "data": {
      "text/plain": [
       "[<matplotlib.lines.Line2D at 0x7f84a007de20>]"
      ]
     },
     "execution_count": 90,
     "metadata": {},
     "output_type": "execute_result"
    },
    {
     "data": {
      "image/png": "[encoded data removed]",
      "text/plain": [
       "<Figure size 432x288 with 1 Axes>"
      ]
     },
     "metadata": {
      "needs_background": "light"
     },
     "output_type": "display_data"
    }
   ],
   "source": [
    "x1 = np.arange(15)\n",
    "y1 = x1**2\n",
    "plt.plot(x1, y1)"
   ]
  },
  {
   "cell_type": "markdown",
   "metadata": {},
   "source": [
    "### Adding title, labels, axis limits, etc."
   ]
  },
  {
   "cell_type": "code",
   "execution_count": 91,
   "metadata": {},
   "outputs": [
    {
     "data": {
      "image/png": "[encoded data removed]",
      "text/plain": [
       "<Figure size 432x288 with 1 Axes>"
      ]
     },
     "metadata": {
      "needs_background": "light"
     },
     "output_type": "display_data"
    }
   ],
   "source": [
    "x1 = np.arange(15)\n",
    "y1 = x1**2\n",
    "plt.plot(x1, y1, label = 'Parabola 1', c = 'r') # 'c' decides the color\n",
    "plt.axis([0, 15, 0, 250]) # sets the axes limit [xmin, xmax, ymin, ymax]\n",
    "plt.title('Parabola') # Adds the title to the graph\n",
    "plt.xlabel('X') # Adds the x axis label\n",
    "plt.ylabel('Y') # Adds the y axis label\n",
    "plt.legend() # Adds the legend of all the series\n",
    "plt.show()"
   ]
  },
  {
   "cell_type": "markdown",
   "metadata": {},
   "source": [
    "### Plotting two different sets of datapoints on the same graph"
   ]
  },
  {
   "cell_type": "code",
   "execution_count": 92,
   "metadata": {},
   "outputs": [],
   "source": [
    "x2 = np.arange(10)\n",
    "y2 = 2*x2**2"
   ]
  },
  {
   "cell_type": "code",
   "execution_count": 93,
   "metadata": {},
   "outputs": [
    {
     "data": {
      "image/png": "[encoded data removed]",
      "text/plain": [
       "<Figure size 432x288 with 1 Axes>"
      ]
     },
     "metadata": {
      "needs_background": "light"
     },
     "output_type": "display_data"
    }
   ],
   "source": [
    "plt.plot(x1, y1, label = 'Parabola 1', c = 'r')\n",
    "plt.plot(x2, y2, label = 'Parabola 2', c = 'b')\n",
    "plt.axis([0, 15, 0, 250])\n",
    "plt.title('Parabola')\n",
    "plt.xlabel('X')\n",
    "plt.ylabel('Y')\n",
    "plt.legend()\n",
    "plt.show()"
   ]
  },
  {
   "cell_type": "markdown",
   "metadata": {},
   "source": [
    "### plt.plot command takes x values as indices if not passed explicitely"
   ]
  },
  {
   "cell_type": "code",
   "execution_count": 94,
   "metadata": {},
   "outputs": [
    {
     "data": {
      "image/png": "[encoded data removed]",
      "text/plain": [
       "<Figure size 432x288 with 1 Axes>"
      ]
     },
     "metadata": {
      "needs_background": "light"
     },
     "output_type": "display_data"
    }
   ],
   "source": [
    "plt.plot(np.random.random(15), label = 'plot 1', c = 'r')\n",
    "plt.plot(np.random.random(15), label = 'plot 2', c = 'b')\n",
    "plt.title('Parabola')\n",
    "plt.xlabel('X')\n",
    "plt.ylabel('Y')\n",
    "plt.legend()\n",
    "plt.show()"
   ]
  },
  {
   "cell_type": "markdown",
   "metadata": {},
   "source": [
    "### Scatter plot (Generally used for discrete datapoints)"
   ]
  },
  {
   "cell_type": "markdown",
   "metadata": {},
   "source": [
    "### Building on the previous method, making a scatter plot"
   ]
  },
  {
   "cell_type": "code",
   "execution_count": 95,
   "metadata": {},
   "outputs": [
    {
     "data": {
      "image/png": "[encoded data removed]",
      "text/plain": [
       "<Figure size 432x288 with 1 Axes>"
      ]
     },
     "metadata": {
      "needs_background": "light"
     },
     "output_type": "display_data"
    }
   ],
   "source": [
    "x1 = np.arange(15)\n",
    "y1 = x1**2\n",
    "\n",
    "x2 = np.arange(15)\n",
    "y2 = x2**2 + 25\n",
    "\n",
    "plt.scatter(x1, y1, label = 'Parabola 1', c = 'r', s = 15 ) # 's' decides the size of the marker and 'c' decides the color\n",
    "plt.scatter(x2, y2, label = 'Parabola 2', c = 'b', s = 25, marker = '*' ) # marker changes to 'star'\n",
    "plt.axis([0, 15, 0, 250]) # sets the axes limit [xmin, xmax, ymin, ymax]\n",
    "plt.title('Parabola') # Adds the title to the graph\n",
    "plt.xlabel('X') # Adds the x axis label\n",
    "plt.ylabel('Y') # Adds the y axis label\n",
    "plt.legend() # Adds the legend of all the series\n",
    "plt.show()"
   ]
  },
  {
   "cell_type": "markdown",
   "metadata": {},
   "source": [
    "\n",
    "### Changing the figure size"
   ]
  },
  {
   "cell_type": "code",
   "execution_count": 97,
   "metadata": {},
   "outputs": [
    {
     "data": {
      "image/png": "[encoded data removed]",
      "text/plain": [
       "<Figure size 720x720 with 1 Axes>"
      ]
     },
     "metadata": {
      "needs_background": "light"
     },
     "output_type": "display_data"
    }
   ],
   "source": [
    "plt.figure(figsize=(10,10)) # Sets the size of the plot\n",
    "plt.plot(x1, y1, label = 'Parabola 1', c = 'r')\n",
    "plt.plot(x2, y2, label = 'Parabola 2', c = 'b')\n",
    "plt.axis([0, 15, 0, 250])\n",
    "plt.title('Parabola')\n",
    "plt.xlabel('X')\n",
    "plt.ylabel('Y')\n",
    "plt.legend()\n",
    "plt.savefig('graph.png') # Saves the graph as a .png file\n",
    "plt.show()"
   ]
  },
  {
   "cell_type": "code",
   "execution_count": null,
   "metadata": {},
   "outputs": [],
   "source": []
  },
  {
   "cell_type": "code",
   "execution_count": null,
   "metadata": {},
   "outputs": [],
   "source": []
  }
 ],
 "metadata": {
  "kernelspec": {
   "display_name": "Python 3 (ipykernel)",
   "language": "python",
   "name": "python3"
  },
  "language_info": {
   "codemirror_mode": {
    "name": "ipython",
    "version": 3
   },
   "file_extension": ".py",
   "mimetype": "text/x-python",
   "name": "python",
   "nbconvert_exporter": "python",
   "pygments_lexer": "ipython3",
   "version": "3.9.12"
  }
 },
 "nbformat": 4,
 "nbformat_minor": 2
}
