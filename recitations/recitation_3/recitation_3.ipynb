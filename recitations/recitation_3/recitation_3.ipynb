{
 "cells": [
  {
   "cell_type": "markdown",
   "metadata": {},
   "source": [
    "### Pandas\n",
    "Software library written for the Python programming language for data manipulation and analysis. "
   ]
  },
  {
   "cell_type": "code",
   "execution_count": 89,
   "metadata": {},
   "outputs": [],
   "source": [
    "# import libraries\n",
    "import numpy as np\n",
    "import pandas as pd"
   ]
  },
  {
   "cell_type": "code",
   "execution_count": 90,
   "metadata": {},
   "outputs": [
    {
     "name": "stdout",
     "output_type": "stream",
     "text": [
      "<class 'pandas.core.frame.DataFrame'>\n",
      "         x1        x2\n",
      "0 -0.715366  3.193351\n",
      "1  0.505650  3.872541\n",
      "2  2.171957  5.251319\n",
      "3  0.354529  3.679159\n",
      "4 -0.398294  3.484915\n"
     ]
    }
   ],
   "source": [
    "# reading a csv file\n",
    "csv_file_df = pd.read_csv(\"./sample.csv\")\n",
    "print(type(csv_file_df))\n",
    "# print first n rows to see the datset structure\n",
    "print(csv_file_df.head(n=5))"
   ]
  },
  {
   "cell_type": "markdown",
   "metadata": {},
   "source": [
    "### Important attributes and member functions of a dataframe"
   ]
  },
  {
   "cell_type": "code",
   "execution_count": 91,
   "metadata": {},
   "outputs": [
    {
     "name": "stdout",
     "output_type": "stream",
     "text": [
      "shape of the dataframe: (5000, 2)\n"
     ]
    }
   ],
   "source": [
    "# number of rows and columns\n",
    "print(f'shape of the dataframe: {csv_file_df.shape}') "
   ]
  },
  {
   "cell_type": "code",
   "execution_count": 92,
   "metadata": {},
   "outputs": [
    {
     "name": "stdout",
     "output_type": "stream",
     "text": [
      "<class 'pandas.core.frame.DataFrame'>\n",
      "RangeIndex: 5000 entries, 0 to 4999\n",
      "Data columns (total 2 columns):\n",
      " #   Column  Non-Null Count  Dtype  \n",
      "---  ------  --------------  -----  \n",
      " 0   x1      5000 non-null   float64\n",
      " 1   x2      5000 non-null   float64\n",
      "dtypes: float64(2)\n",
      "memory usage: 78.2 KB\n",
      "None\n"
     ]
    }
   ],
   "source": [
    "# all info about the dataframe\n",
    "print(csv_file_df.info()) "
   ]
  },
  {
   "cell_type": "code",
   "execution_count": 93,
   "metadata": {},
   "outputs": [
    {
     "name": "stdout",
     "output_type": "stream",
     "text": [
      "0    3.193351\n",
      "1    3.872541\n",
      "2    5.251319\n",
      "3    3.679159\n",
      "4    3.484915\n",
      "Name: x2, dtype: float64\n",
      "Both usages are the same\n"
     ]
    }
   ],
   "source": [
    "# get a specific column with a given key (first 5)\n",
    "print(csv_file_df['x2'].head())\n",
    "print(\"Both usages are the same\") if csv_file_df['x2'] is csv_file_df.x2 else print(\"Both usages are not the same\") "
   ]
  },
  {
   "cell_type": "code",
   "execution_count": 94,
   "metadata": {},
   "outputs": [
    {
     "name": "stdout",
     "output_type": "stream",
     "text": [
      "         x2        x1\n",
      "0  3.193351 -0.715366\n",
      "1  3.872541  0.505650\n",
      "2  5.251319  2.171957\n",
      "3  3.679159  0.354529\n",
      "4  3.484915 -0.398294\n"
     ]
    }
   ],
   "source": [
    "# to select multiple column names, pass the column names as a list (first 5)\n",
    "print(csv_file_df[['x2', 'x1']].head())"
   ]
  },
  {
   "cell_type": "markdown",
   "metadata": {},
   "source": [
    "### Slicing and Indexing (iloc and loc)"
   ]
  },
  {
   "cell_type": "code",
   "execution_count": 95,
   "metadata": {},
   "outputs": [
    {
     "name": "stdout",
     "output_type": "stream",
     "text": [
      "5    1.918944\n",
      "6    4.113065\n",
      "7    3.566363\n",
      "8    3.366401\n",
      "9    2.321018\n",
      "Name: x2, dtype: float64\n"
     ]
    }
   ],
   "source": [
    "# slicing using integer based locations of rows and columns\n",
    "# to select rows from 5-10 (inclusive), and the second column (x2)\n",
    "req_rows_and_columns = csv_file_df.iloc[5:10, 1]\n",
    "print(req_rows_and_columns)"
   ]
  },
  {
   "cell_type": "code",
   "execution_count": 96,
   "metadata": {},
   "outputs": [
    {
     "name": "stdout",
     "output_type": "stream",
     "text": [
      "5     0.000725\n",
      "6     2.137332\n",
      "10    0.222858\n",
      "Name: x1, dtype: float64\n"
     ]
    }
   ],
   "source": [
    "# to select rows from 5, 6, 10 (inclusive), and the first column (x2)\n",
    "req_rows_and_columns = csv_file_df.iloc[[5, 6, 10], 0]\n",
    "print(req_rows_and_columns)"
   ]
  },
  {
   "cell_type": "code",
   "execution_count": 97,
   "metadata": {},
   "outputs": [
    {
     "name": "stdout",
     "output_type": "stream",
     "text": [
      "5     1.918944\n",
      "6     4.113065\n",
      "7     3.566363\n",
      "8     3.366401\n",
      "9     2.321018\n",
      "10    3.218724\n",
      "Name: x2, dtype: float64\n"
     ]
    }
   ],
   "source": [
    "# The same can be achieved using iloc, which uses labels of row and column to select\n",
    "# here row labels are automatically generated  numbers from zero to number_of_rows-1\n",
    "# to select rows from 5-10 (inclusive), and the second column (x2)\n",
    "req_rows_and_columns = csv_file_df.loc[5:10, 'x2']\n",
    "print(req_rows_and_columns)"
   ]
  },
  {
   "cell_type": "code",
   "execution_count": 98,
   "metadata": {},
   "outputs": [
    {
     "name": "stdout",
     "output_type": "stream",
     "text": [
      "          x1        x2\n",
      "5   0.000725  1.918944\n",
      "6   2.137332  4.113065\n",
      "10  0.222858  3.218724\n"
     ]
    }
   ],
   "source": [
    "# to select rows from 5, 6, 10 (inclusive), and the first column (x2)\n",
    "req_rows_and_columns = csv_file_df.loc[[5, 6, 10], 'x1':'x2']\n",
    "print(req_rows_and_columns)"
   ]
  },
  {
   "cell_type": "code",
   "execution_count": 99,
   "metadata": {},
   "outputs": [
    {
     "name": "stdout",
     "output_type": "stream",
     "text": [
      "                 x2\n",
      "x1                 \n",
      "-0.715366  3.193351\n",
      " 0.505650  3.872541\n"
     ]
    }
   ],
   "source": [
    "# the row labels here are the auto genertad indice, you can manually set any column as the row labels\n",
    "modified_row_label_df = pd.read_csv(\"./sample.csv\", index_col='x1')\n",
    "print(modified_row_label_df.head(2))"
   ]
  },
  {
   "cell_type": "code",
   "execution_count": 100,
   "metadata": {},
   "outputs": [
    {
     "name": "stdout",
     "output_type": "stream",
     "text": [
      "                 x2\n",
      "x1                 \n",
      "-0.715366  3.193351\n",
      " 0.505650  3.872541\n"
     ]
    }
   ],
   "source": [
    "modified_row_label_df = csv_file_df.set_index('x1')\n",
    "print(modified_row_label_df.head(2))"
   ]
  },
  {
   "cell_type": "markdown",
   "metadata": {},
   "source": [
    "### Filtering"
   ]
  },
  {
   "cell_type": "code",
   "execution_count": 101,
   "metadata": {},
   "outputs": [
    {
     "name": "stdout",
     "output_type": "stream",
     "text": [
      "filtered 817 out of 5000\n"
     ]
    }
   ],
   "source": [
    "# filtering all rows where x <= 0.1 and x2 > 2.0\n",
    "filtered = csv_file_df[(csv_file_df['x1'] <= 0.1) & (csv_file_df['x2'] > 2.0)]\n",
    "print(f'filtered {filtered.shape[0]} out of {csv_file_df.shape[0]}')"
   ]
  },
  {
   "cell_type": "code",
   "execution_count": 102,
   "metadata": {},
   "outputs": [
    {
     "name": "stdout",
     "output_type": "stream",
     "text": [
      "filtered 817 out of 5000\n"
     ]
    }
   ],
   "source": [
    "# alternate approach\n",
    "filtered = csv_file_df.loc[(csv_file_df['x1'] <= 0.1) & (csv_file_df['x2'] > 2.0)]\n",
    "print(f'filtered {filtered.shape[0]} out of {csv_file_df.shape[0]}')"
   ]
  },
  {
   "cell_type": "code",
   "execution_count": 104,
   "metadata": {},
   "outputs": [
    {
     "data": {
      "text/html": [
       "<div>\n",
       "<style scoped>\n",
       "    .dataframe tbody tr th:only-of-type {\n",
       "        vertical-align: middle;\n",
       "    }\n",
       "\n",
       "    .dataframe tbody tr th {\n",
       "        vertical-align: top;\n",
       "    }\n",
       "\n",
       "    .dataframe thead th {\n",
       "        text-align: right;\n",
       "    }\n",
       "</style>\n",
       "<table border=\"1\" class=\"dataframe\">\n",
       "  <thead>\n",
       "    <tr style=\"text-align: right;\">\n",
       "      <th></th>\n",
       "      <th>x1</th>\n",
       "      <th>x2</th>\n",
       "    </tr>\n",
       "  </thead>\n",
       "  <tbody>\n",
       "    <tr>\n",
       "      <th>0</th>\n",
       "      <td>-0.715366</td>\n",
       "      <td>3.193351</td>\n",
       "    </tr>\n",
       "    <tr>\n",
       "      <th>1</th>\n",
       "      <td>0.505650</td>\n",
       "      <td>3.872541</td>\n",
       "    </tr>\n",
       "  </tbody>\n",
       "</table>\n",
       "</div>"
      ],
      "text/plain": [
       "         x1        x2\n",
       "0 -0.715366  3.193351\n",
       "1  0.505650  3.872541"
      ]
     },
     "execution_count": 104,
     "metadata": {},
     "output_type": "execute_result"
    }
   ],
   "source": [
    "# drop na\n",
    "csv_file_df.dropna(axis='index', how='any', subset=['x2']).head(2) # removes rows with na values for x2 column, have parameters like axis and how"
   ]
  },
  {
   "cell_type": "markdown",
   "metadata": {},
   "source": [
    "### Convert to numpy"
   ]
  },
  {
   "cell_type": "code",
   "execution_count": 88,
   "metadata": {},
   "outputs": [
    {
     "name": "stdout",
     "output_type": "stream",
     "text": [
      "[ 5.05650167e-01  2.17195684e+00  3.54528895e-01 -3.98294242e-01\n",
      "  7.24929000e-04] <class 'numpy.ndarray'>\n"
     ]
    }
   ],
   "source": [
    "csv_numpy = csv_file_df.loc[1:5, 'x1'].to_numpy()\n",
    "print(csv_numpy, type(csv_numpy))"
   ]
  },
  {
   "cell_type": "markdown",
   "metadata": {},
   "source": [
    "### os, operating system dependent functionalities"
   ]
  },
  {
   "cell_type": "code",
   "execution_count": 105,
   "metadata": {},
   "outputs": [],
   "source": [
    "import os"
   ]
  },
  {
   "cell_type": "code",
   "execution_count": 106,
   "metadata": {},
   "outputs": [
    {
     "name": "stdout",
     "output_type": "stream",
     "text": [
      "/home/akshay/Downloads/mlai_ta/recitation_3\n"
     ]
    }
   ],
   "source": [
    "# get the current directory (can we used to get absolute path automatically)\n",
    "print(os.getcwd())"
   ]
  },
  {
   "cell_type": "code",
   "execution_count": 112,
   "metadata": {},
   "outputs": [
    {
     "name": "stdout",
     "output_type": "stream",
     "text": [
      "/home\n",
      "/home/akshay/Downloads/mlai_ta/recitation_3\n"
     ]
    }
   ],
   "source": [
    "# to change directory (be careful with this command, better to write relative paths)\n",
    "os.chdir('/home/')\n",
    "print(os.getcwd())\n",
    "os.chdir('/home/akshay/Downloads/mlai_ta/recitation_3')\n",
    "print(os.getcwd())"
   ]
  },
  {
   "cell_type": "code",
   "execution_count": 114,
   "metadata": {},
   "outputs": [
    {
     "name": "stdout",
     "output_type": "stream",
     "text": [
      "['ps-4.py', '.anydesk', 'DL-Based-Point-Cloud-Registration', '.jupyter', '.FBReader', 'Desktop', '.thunderbird', 'rtl8723de', '.ros', '.gnome', '.leetcode', '.kite', '.cache', '.gazebo', '.pki', '.conda', 'result_screenshot_25.08.2022.png', 'Templates', '.java', 'Strange_Team_Name_Here', '.config', '.lc', 'Videos', '.sdformat', 'Cylinder3D', '.ignition', '.platformio', '.ssr', '.vscode', '.nv', '.zoom', 'ups-stitched.jpg', 'MinkowskiEngine', '.gnupg', '.rviz', 'Music', 'MAIL', 'Taylor_Dunn_Cart2', 'Downloads', '.sudo_as_admin_successful', 'Arduino', 'opencv_build', 'aws', 'Documents', '.ssh', '.docker', 'Pictures', '.mozilla', 'snap', '.bash_history', 'images', '.ipynb_checkpoints', '.gitconfig', '.eclipse', 'cv_stitch.py', '.local', '.bashrc', '.aws', '.ipython', 'Adversarial-Point-Cloud', 'SalsaNext', '.oracle_jre_usage', 'anaconda3', '.netrc', '.continuum', '.python_history', 'ups_result.json', '.wget-hsts', 'example', 'Public', '.matlab', '.keras', '.arduino15', 'spvnas', 'verify', '.anaconda']\n"
     ]
    }
   ],
   "source": [
    "# list all files in a folder, argument relative to absolute path\n",
    "list_of_files = os.listdir('../../../')\n",
    "print(list_of_files)"
   ]
  },
  {
   "cell_type": "markdown",
   "metadata": {},
   "source": [
    "### shutil, high level file operations"
   ]
  },
  {
   "cell_type": "code",
   "execution_count": 116,
   "metadata": {},
   "outputs": [
    {
     "ename": "OSError",
     "evalue": "[Errno 39] Directory not empty: '../trial/'",
     "output_type": "error",
     "traceback": [
      "\u001b[0;31m---------------------------------------------------------------------------\u001b[0m",
      "\u001b[0;31mOSError\u001b[0m                                   Traceback (most recent call last)",
      "\u001b[0;32m<ipython-input-116-152005e41544>\u001b[0m in \u001b[0;36m<module>\u001b[0;34m\u001b[0m\n\u001b[1;32m      1\u001b[0m \u001b[0;31m# to delete a directory\u001b[0m\u001b[0;34m\u001b[0m\u001b[0;34m\u001b[0m\u001b[0;34m\u001b[0m\u001b[0m\n\u001b[0;32m----> 2\u001b[0;31m \u001b[0mos\u001b[0m\u001b[0;34m.\u001b[0m\u001b[0mrmdir\u001b[0m\u001b[0;34m(\u001b[0m\u001b[0;34m'../trial/'\u001b[0m\u001b[0;34m)\u001b[0m \u001b[0;31m# only works for empty directories\u001b[0m\u001b[0;34m\u001b[0m\u001b[0;34m\u001b[0m\u001b[0m\n\u001b[0m",
      "\u001b[0;31mOSError\u001b[0m: [Errno 39] Directory not empty: '../trial/'"
     ]
    }
   ],
   "source": [
    "# to delete a directory\n",
    "os.rmdir('../trial/') # only works for empty directories"
   ]
  },
  {
   "cell_type": "code",
   "execution_count": 117,
   "metadata": {},
   "outputs": [],
   "source": [
    "import shutil\n",
    "if shutil.rmtree('../trial/'):\n",
    "    print(\"Removed\")"
   ]
  },
  {
   "cell_type": "code",
   "execution_count": null,
   "metadata": {},
   "outputs": [],
   "source": [
    "# to delete a file\n",
    "if os.remove('../recitation_3/sample1.csv'):\n",
    "    print(\"Removed file successfully\")"
   ]
  },
  {
   "cell_type": "code",
   "execution_count": 119,
   "metadata": {},
   "outputs": [
    {
     "name": "stdout",
     "output_type": "stream",
     "text": [
      "The file exists\n"
     ]
    }
   ],
   "source": [
    "# to check if a file exists\n",
    "if os.path.exists(\"../trial/\"):\n",
    "    print(\"The file/folder exists\")"
   ]
  },
  {
   "cell_type": "code",
   "execution_count": 120,
   "metadata": {},
   "outputs": [],
   "source": [
    "# to create a directory,\n",
    "# 1. check if it exits, then if already exits either overwrite or exit the program according to your need\n",
    "# you need to create folder named sample in this directory\n",
    "req_path = './sample/'\n",
    "if os.path.exists(req_path):\n",
    "    shutil.rmtree(req_path)\n",
    "    print(\"Found existing path, so deleting the folder\")\n",
    "os.mkdir(req_path)"
   ]
  },
  {
   "cell_type": "code",
   "execution_count": 121,
   "metadata": {},
   "outputs": [],
   "source": [
    "shutil.rmtree(req_path)"
   ]
  },
  {
   "cell_type": "markdown",
   "metadata": {},
   "source": [
    "### glob, The glob module finds all the pathnames matching a specified pattern \n",
    "Need for this\n",
    "1. You want to load all .png files for a dl or ml pipeline\n",
    "2. split dataset into training and testing\n",
    "\n",
    "For all these you require the filenames"
   ]
  },
  {
   "cell_type": "code",
   "execution_count": 122,
   "metadata": {},
   "outputs": [],
   "source": [
    "import glob"
   ]
  },
  {
   "cell_type": "code",
   "execution_count": 133,
   "metadata": {},
   "outputs": [
    {
     "name": "stdout",
     "output_type": "stream",
     "text": [
      "found these 99 image files\n"
     ]
    }
   ],
   "source": [
    "# search in a specific folder\n",
    "# arguments should be a pathname string to match\n",
    "# 1. * matches to anythin\n",
    "# 2. ** searches all subdiretories possible (recursive = true)\n",
    "\n",
    "# search for png files in Testing/glioma_tumor/\n",
    "for i, filename in enumerate(glob.glob('../../archive/Testing/glioma_tumor/*.jpg')):\n",
    "    continue\n",
    "print(f\"found these {i} image files in Testing/glioma_tumor/ folder\")"
   ]
  },
  {
   "cell_type": "code",
   "execution_count": 134,
   "metadata": {},
   "outputs": [
    {
     "name": "stdout",
     "output_type": "stream",
     "text": [
      "found these 393 image files\n"
     ]
    }
   ],
   "source": [
    "# search for png files in Testing/ \n",
    "for i, filename in enumerate(glob.glob('../../archive/Testing/*/*.jpg')):\n",
    "    continue\n",
    "print(f\"found these {i} image files in testing foler\")"
   ]
  },
  {
   "cell_type": "code",
   "execution_count": 131,
   "metadata": {},
   "outputs": [
    {
     "name": "stdout",
     "output_type": "stream",
     "text": [
      "Found 3263 png files\n"
     ]
    }
   ],
   "source": [
    "# search in all subdirectories of archive (we do need to know the level of the deepest folder\n",
    "# ** will take care of it)\n",
    "for i, filename in enumerate(glob.glob('../../archive/**/*.jpg', recursive=True)):\n",
    "    # print(filename)\n",
    "    continue\n",
    "print(f'Found {i} image files in archive folder')"
   ]
  },
  {
   "cell_type": "markdown",
   "metadata": {},
   "source": [
    "### argparse, for passing command line arguments refer in argparse.py"
   ]
  },
  {
   "cell_type": "markdown",
   "metadata": {},
   "source": []
  }
 ],
 "metadata": {
  "kernelspec": {
   "display_name": "Python 3.8.10 64-bit",
   "language": "python",
   "name": "python3"
  },
  "language_info": {
   "codemirror_mode": {
    "name": "ipython",
    "version": 3
   },
   "file_extension": ".py",
   "mimetype": "text/x-python",
   "name": "python",
   "nbconvert_exporter": "python",
   "pygments_lexer": "ipython3",
   "version": "3.8.10"
  },
  "orig_nbformat": 4,
  "vscode": {
   "interpreter": {
    "hash": "31f2aee4e71d21fbe5cf8b01ff0e069b9275f58929596ceb00d14d90e3e16cd6"
   }
  }
 },
 "nbformat": 4,
 "nbformat_minor": 2
}
