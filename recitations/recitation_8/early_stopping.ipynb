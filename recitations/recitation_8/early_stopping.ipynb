{
 "cells": [
  {
   "cell_type": "code",
   "execution_count": 43,
   "metadata": {},
   "outputs": [],
   "source": [
    "import os\n",
    "import torch\n",
    "from torch import nn\n",
    "from torchvision.datasets import MNIST\n",
    "from torch.utils.data import DataLoader\n",
    "from torchvision import transforms\n",
    "from tqdm.notebook import tqdm\n",
    "import matplotlib.pyplot as plt\n",
    "import numpy as np"
   ]
  },
  {
   "cell_type": "code",
   "execution_count": 44,
   "metadata": {},
   "outputs": [],
   "source": [
    "# early stopping \n",
    "class EarlyStopping():\n",
    "    def __init__(self,\n",
    "                 threshold,\n",
    "                 tolerence) -> None:\n",
    "        self.threshold = threshold\n",
    "        self.tolerence = tolerence\n",
    "        self.counter = 0\n",
    "    \n",
    "    def check(self, train_loss, val_loss):\n",
    "        if val_loss - train_loss >= self.threshold:\n",
    "            print(f\"Incremented at {train_loss}, {val_loss}\")\n",
    "            self.counter += 1\n",
    "            if self.counter > self.tolerence:\n",
    "                return True\n",
    "        else:\n",
    "            self.counter = 0\n",
    "        return False"
   ]
  },
  {
   "cell_type": "code",
   "execution_count": 45,
   "metadata": {},
   "outputs": [],
   "source": [
    "# defining a model\n",
    "class MLP(nn.Module):\n",
    "    def __init__(self, p=0.5)  -> None:\n",
    "        super(MLP, self).__init__()\n",
    "        self.layers = nn.Sequential(nn.Flatten(),\n",
    "                                    nn.Linear(28 * 28 * 1, 1024),      \n",
    "                                    nn.Dropout(p=p),\n",
    "                                    nn.ReLU(),\n",
    "                                    nn.Linear(1024, 512),\n",
    "                                    nn.Dropout(p=p),\n",
    "                                    nn.ReLU(),\n",
    "                                    nn.Linear(512, 32),\n",
    "                                    nn.Dropout(p=p),\n",
    "                                    nn.ReLU(),\n",
    "                                    nn.Linear(32, 10))\n",
    "\n",
    "    def forward(self, x):\n",
    "        '''Forward pass'''\n",
    "        return self.layers(x)"
   ]
  },
  {
   "cell_type": "code",
   "execution_count": 46,
   "metadata": {},
   "outputs": [],
   "source": [
    "# to find accuracy on the dataset\n",
    "def test(model, test_dataloader, loss_function):\n",
    "    tot_loss = 0\n",
    "    correct_pred = 0\n",
    "    data_no = 0\n",
    "    model = model.eval()\n",
    "    for i, data in enumerate(test_dataloader, 0):\n",
    "        inputs, targets = data\n",
    "        inputs = inputs.cuda()\n",
    "        outputs = model(inputs)\n",
    "        outputs = outputs.cpu()\n",
    "        loss = loss_function(outputs, targets)\n",
    "        tot_loss += loss.item()*targets.shape[0]\n",
    "        pred_labels = torch.argmax(outputs, dim=1).reshape(-1)\n",
    "        targets = targets.reshape(-1)\n",
    "        correct_pred += torch.sum(pred_labels == targets)\n",
    "        data_no += targets.shape[0]\n",
    "    print(f'Test loss {tot_loss/data_no}, accuracy {correct_pred/data_no}')\n",
    "    return tot_loss/data_no, correct_pred/data_no"
   ]
  },
  {
   "cell_type": "code",
   "execution_count": 47,
   "metadata": {},
   "outputs": [],
   "source": [
    "# function for plotting\n",
    "def plot_losses(train_losses, test_losses, ax, title):\n",
    "    ax.set_xlabel('iteration/epoch no')\n",
    "    ax.set_ylabel('loss')\n",
    "    iterations = np.arange(len(train_losses))\n",
    "    epochs = np.arange(len(test_losses))\n",
    "    ax.plot(iterations, train_losses, label=\"train loss for \" + title)\n",
    "    ax.plot(epochs, test_losses, label=\"test loss for \" + title)\n",
    "    ax.legend()\n",
    "\n",
    "def plot_accuracies(accuracies, ax, title):\n",
    "    epochs = np.arange(len(accuracies))\n",
    "    ax.plot(epochs, accuracies, label=\"test accuracy for \" + title)\n",
    "    ax.legend()"
   ]
  },
  {
   "cell_type": "code",
   "execution_count": 48,
   "metadata": {},
   "outputs": [],
   "source": [
    "# main function for comaparing the effect of dropout\n",
    "def main_early_stopping(epochs=5, \n",
    "                        batch_size=10, \n",
    "                        ax1=None, \n",
    "                        ax2=None,\n",
    "                        is_early=True):      \n",
    "  # Set fixed random number seed\n",
    "  torch.manual_seed(42)\n",
    "  \n",
    "  # Prepare CIFAR-10 dataset\n",
    "  train_dataset = MNIST(os.getcwd(),\n",
    "                        train=True,\n",
    "                        download=True, \n",
    "                        transform=transforms.ToTensor())\n",
    "  test_dataset = MNIST(os.getcwd(),\n",
    "                       train=False,\n",
    "                       download=True,\n",
    "                       transform=transforms.ToTensor())\n",
    "  trainloader = torch.utils.data.DataLoader(train_dataset, \n",
    "                                            batch_size=batch_size, \n",
    "                                            shuffle=True\n",
    "                                            )\n",
    "  testloader = torch.utils.data.DataLoader(test_dataset,\n",
    "                                           batch_size=batch_size,\n",
    "                                           shuffle=False,\n",
    "                                           )\n",
    "\n",
    "  # Initialize the MLP\n",
    "  mlp = MLP(p=0).cuda()\n",
    "  \n",
    "  # Define the loss function and optimizer\n",
    "  loss_function = nn.CrossEntropyLoss()\n",
    "  optimizer = torch.optim.Adam(mlp.parameters(), lr=1e-3)\n",
    "  accuracies = []\n",
    "  train_losses = []\n",
    "  test_losses = []\n",
    "  early_stop = EarlyStopping(0.001, tolerence=15)\n",
    "\n",
    "  # Run the training loop\n",
    "  for epoch in range(epochs): # 5 epochs at maximum    \n",
    "    current_loss = 0.0\n",
    "    epoch_loss = 0.0\n",
    "    data_no = 0.0\n",
    "    # if epoch == 0:\n",
    "    #   test_loss, accuracy = test(mlp, testloader, loss_function)\n",
    "    # test_losses.append(test_loss)\n",
    "    # accuracies.append(accuracy) \n",
    "    mlp = mlp.train()\n",
    "    # Iterate over the DataLoader for training data\n",
    "    loop = tqdm(enumerate(trainloader, 0), total=len(trainloader))\n",
    "    for i, data in loop:\n",
    "      inputs, targets = data\n",
    "      inputs = inputs.cuda()\n",
    "      optimizer.zero_grad()\n",
    "      outputs = mlp(inputs)\n",
    "      outputs = outputs.cpu()\n",
    "      loss = loss_function(outputs, targets)\n",
    "      loss.backward()\n",
    "      optimizer.step()\n",
    "      current_loss += loss.item()\n",
    "      epoch_loss += loss.item()*targets.shape[0]\n",
    "      data_no += targets.shape[0]\n",
    "      if i % max(int(500*(10/batch_size)), 1) == max(int((500*10/batch_size))-1, 0):\n",
    "          loop.set_description(f'Epoch no {epoch}')\n",
    "          loop.set_postfix_str(f'Loss after {i+1}th minibatch: {round(current_loss, 2)}')\n",
    "          # print('Loss after mini-batch %5d: %.3f' %\n",
    "          #       (i + 1, current_loss / 500))\n",
    "          current_loss = 0.0\n",
    "    train_losses.append(epoch_loss/data_no)\n",
    "    print(f\"Train loss {epoch_loss/data_no}\")\n",
    "    test_loss, accuracy = test(mlp, testloader, loss_function)\n",
    "    test_losses.append(test_loss)\n",
    "    accuracies.append(accuracy) \n",
    "    if is_early:\n",
    "      if early_stop.check(epoch_loss/data_no, test_loss):\n",
    "            print(f\"Stopping early at {epoch} epoch\")\n",
    "            break \n",
    "  title = f\" earlystop\" if is_early else \" w/o earlystop\"\n",
    "  plot_losses(train_losses, test_losses, ax1, title)\n",
    "  plot_accuracies(accuracies, ax2, title)\n",
    "  # Process is complete.\n",
    "  print('Training process has finished.')"
   ]
  },
  {
   "cell_type": "code",
   "execution_count": 50,
   "metadata": {},
   "outputs": [
    {
     "data": {
      "application/vnd.jupyter.widget-view+json": {
       "model_id": "ffe3d1fafbc9482389977bf0e9cb4a3c",
       "version_major": 2,
       "version_minor": 0
      },
      "text/plain": [
       "  0%|          | 0/59 [00:00<?, ?it/s]"
      ]
     },
     "metadata": {},
     "output_type": "display_data"
    },
    {
     "name": "stdout",
     "output_type": "stream",
     "text": [
      "Train loss 0.6922905190229416\n",
      "Test loss 0.2671815396308899, accuracy 0.9207000136375427\n"
     ]
    },
    {
     "data": {
      "application/vnd.jupyter.widget-view+json": {
       "model_id": "f846a2b2d31445969a62dcb61b5030b8",
       "version_major": 2,
       "version_minor": 0
      },
      "text/plain": [
       "  0%|          | 0/59 [00:00<?, ?it/s]"
      ]
     },
     "metadata": {},
     "output_type": "display_data"
    },
    {
     "name": "stdout",
     "output_type": "stream",
     "text": [
      "Train loss 0.23059694436391195\n",
      "Test loss 0.18121679973602295, accuracy 0.9462000131607056\n"
     ]
    },
    {
     "data": {
      "application/vnd.jupyter.widget-view+json": {
       "model_id": "341df5fe960541279b40df6dff25050b",
       "version_major": 2,
       "version_minor": 0
      },
      "text/plain": [
       "  0%|          | 0/59 [00:00<?, ?it/s]"
      ]
     },
     "metadata": {},
     "output_type": "display_data"
    },
    {
     "name": "stdout",
     "output_type": "stream",
     "text": [
      "Train loss 0.15490252708594004\n",
      "Test loss 0.13557558531761169, accuracy 0.9581999778747559\n"
     ]
    },
    {
     "data": {
      "application/vnd.jupyter.widget-view+json": {
       "model_id": "445ec451fa534a07a5feb5357ccc6f47",
       "version_major": 2,
       "version_minor": 0
      },
      "text/plain": [
       "  0%|          | 0/59 [00:00<?, ?it/s]"
      ]
     },
     "metadata": {},
     "output_type": "display_data"
    },
    {
     "name": "stdout",
     "output_type": "stream",
     "text": [
      "Train loss 0.11641225678126017\n",
      "Test loss 0.11911235554218293, accuracy 0.9629999995231628\n",
      "Incremented at 0.11641225678126017, 0.11911235554218293\n"
     ]
    },
    {
     "data": {
      "application/vnd.jupyter.widget-view+json": {
       "model_id": "eba3b516fbe548558eae20c2051d0450",
       "version_major": 2,
       "version_minor": 0
      },
      "text/plain": [
       "  0%|          | 0/59 [00:00<?, ?it/s]"
      ]
     },
     "metadata": {},
     "output_type": "display_data"
    },
    {
     "name": "stdout",
     "output_type": "stream",
     "text": [
      "Train loss 0.08779047961235047\n",
      "Test loss 0.09834123198986053, accuracy 0.9688000082969666\n",
      "Incremented at 0.08779047961235047, 0.09834123198986053\n"
     ]
    },
    {
     "data": {
      "application/vnd.jupyter.widget-view+json": {
       "model_id": "0181e197c61147f5ada3f32b18eb9d4a",
       "version_major": 2,
       "version_minor": 0
      },
      "text/plain": [
       "  0%|          | 0/59 [00:00<?, ?it/s]"
      ]
     },
     "metadata": {},
     "output_type": "display_data"
    },
    {
     "name": "stdout",
     "output_type": "stream",
     "text": [
      "Train loss 0.06835397092501322\n",
      "Test loss 0.08707780066728592, accuracy 0.9729999899864197\n",
      "Incremented at 0.06835397092501322, 0.08707780066728592\n"
     ]
    },
    {
     "data": {
      "application/vnd.jupyter.widget-view+json": {
       "model_id": "56b3a1e8ee614939a3dd5eb11ccefa02",
       "version_major": 2,
       "version_minor": 0
      },
      "text/plain": [
       "  0%|          | 0/59 [00:00<?, ?it/s]"
      ]
     },
     "metadata": {},
     "output_type": "display_data"
    },
    {
     "name": "stdout",
     "output_type": "stream",
     "text": [
      "Train loss 0.05520719936688741\n",
      "Test loss 0.08009989447593689, accuracy 0.9763000011444092\n",
      "Incremented at 0.05520719936688741, 0.08009989447593689\n"
     ]
    },
    {
     "data": {
      "application/vnd.jupyter.widget-view+json": {
       "model_id": "caa6c07276db4bfbb8c3a02fa3b4fbc6",
       "version_major": 2,
       "version_minor": 0
      },
      "text/plain": [
       "  0%|          | 0/59 [00:00<?, ?it/s]"
      ]
     },
     "metadata": {},
     "output_type": "display_data"
    },
    {
     "name": "stdout",
     "output_type": "stream",
     "text": [
      "Train loss 0.044923298984766005\n",
      "Test loss 0.07290133014917374, accuracy 0.9764000177383423\n",
      "Incremented at 0.044923298984766005, 0.07290133014917374\n"
     ]
    },
    {
     "data": {
      "application/vnd.jupyter.widget-view+json": {
       "model_id": "c18b9402e4074ec0b3f40f33e778bceb",
       "version_major": 2,
       "version_minor": 0
      },
      "text/plain": [
       "  0%|          | 0/59 [00:00<?, ?it/s]"
      ]
     },
     "metadata": {},
     "output_type": "display_data"
    },
    {
     "name": "stdout",
     "output_type": "stream",
     "text": [
      "Train loss 0.03554115667939186\n",
      "Test loss 0.0709077486038208, accuracy 0.9779000282287598\n",
      "Incremented at 0.03554115667939186, 0.0709077486038208\n"
     ]
    },
    {
     "data": {
      "application/vnd.jupyter.widget-view+json": {
       "model_id": "5e466ee2e65b4e2fac53ec2f01283afd",
       "version_major": 2,
       "version_minor": 0
      },
      "text/plain": [
       "  0%|          | 0/59 [00:00<?, ?it/s]"
      ]
     },
     "metadata": {},
     "output_type": "display_data"
    },
    {
     "name": "stdout",
     "output_type": "stream",
     "text": [
      "Train loss 0.02929356518983841\n",
      "Test loss 0.07122161427736283, accuracy 0.9793999791145325\n",
      "Incremented at 0.02929356518983841, 0.07122161427736283\n"
     ]
    },
    {
     "data": {
      "application/vnd.jupyter.widget-view+json": {
       "model_id": "16a29737526d4237bcee49dbf087c53a",
       "version_major": 2,
       "version_minor": 0
      },
      "text/plain": [
       "  0%|          | 0/59 [00:00<?, ?it/s]"
      ]
     },
     "metadata": {},
     "output_type": "display_data"
    },
    {
     "name": "stdout",
     "output_type": "stream",
     "text": [
      "Train loss 0.022449117965002853\n",
      "Test loss 0.07070438976287842, accuracy 0.9790999889373779\n",
      "Incremented at 0.022449117965002853, 0.07070438976287842\n"
     ]
    },
    {
     "data": {
      "application/vnd.jupyter.widget-view+json": {
       "model_id": "31759a3fc64144f6b9fd0dfef44f68c8",
       "version_major": 2,
       "version_minor": 0
      },
      "text/plain": [
       "  0%|          | 0/59 [00:00<?, ?it/s]"
      ]
     },
     "metadata": {},
     "output_type": "display_data"
    },
    {
     "name": "stdout",
     "output_type": "stream",
     "text": [
      "Train loss 0.018064526850978535\n",
      "Test loss 0.06915132513046264, accuracy 0.9796000123023987\n",
      "Incremented at 0.018064526850978535, 0.06915132513046264\n"
     ]
    },
    {
     "data": {
      "application/vnd.jupyter.widget-view+json": {
       "model_id": "d3d1620c670d46b3af9236f30f993745",
       "version_major": 2,
       "version_minor": 0
      },
      "text/plain": [
       "  0%|          | 0/59 [00:00<?, ?it/s]"
      ]
     },
     "metadata": {},
     "output_type": "display_data"
    },
    {
     "name": "stdout",
     "output_type": "stream",
     "text": [
      "Train loss 0.015060363930463791\n",
      "Test loss 0.06687109904289246, accuracy 0.9796000123023987\n",
      "Incremented at 0.015060363930463791, 0.06687109904289246\n"
     ]
    },
    {
     "data": {
      "application/vnd.jupyter.widget-view+json": {
       "model_id": "9ee85be337484a359f15c14578952051",
       "version_major": 2,
       "version_minor": 0
      },
      "text/plain": [
       "  0%|          | 0/59 [00:00<?, ?it/s]"
      ]
     },
     "metadata": {},
     "output_type": "display_data"
    },
    {
     "name": "stdout",
     "output_type": "stream",
     "text": [
      "Train loss 0.011930238923927148\n",
      "Test loss 0.07138455109596252, accuracy 0.980400025844574\n",
      "Incremented at 0.011930238923927148, 0.07138455109596252\n"
     ]
    },
    {
     "data": {
      "application/vnd.jupyter.widget-view+json": {
       "model_id": "80b25e9e60ab4c94914ac9fa0f74d2c2",
       "version_major": 2,
       "version_minor": 0
      },
      "text/plain": [
       "  0%|          | 0/59 [00:00<?, ?it/s]"
      ]
     },
     "metadata": {},
     "output_type": "display_data"
    },
    {
     "name": "stdout",
     "output_type": "stream",
     "text": [
      "Train loss 0.009136296570797762\n",
      "Test loss 0.06920496764183044, accuracy 0.9807000160217285\n",
      "Incremented at 0.009136296570797762, 0.06920496764183044\n"
     ]
    },
    {
     "data": {
      "application/vnd.jupyter.widget-view+json": {
       "model_id": "cfb70fb8afb64ba1990cd2a81183ee1d",
       "version_major": 2,
       "version_minor": 0
      },
      "text/plain": [
       "  0%|          | 0/59 [00:00<?, ?it/s]"
      ]
     },
     "metadata": {},
     "output_type": "display_data"
    },
    {
     "name": "stdout",
     "output_type": "stream",
     "text": [
      "Train loss 0.0075636799861987436\n",
      "Test loss 0.07277757799625396, accuracy 0.9803000092506409\n",
      "Incremented at 0.0075636799861987436, 0.07277757799625396\n"
     ]
    },
    {
     "data": {
      "application/vnd.jupyter.widget-view+json": {
       "model_id": "15ed032c2768453191790bf01773321f",
       "version_major": 2,
       "version_minor": 0
      },
      "text/plain": [
       "  0%|          | 0/59 [00:00<?, ?it/s]"
      ]
     },
     "metadata": {},
     "output_type": "display_data"
    },
    {
     "name": "stdout",
     "output_type": "stream",
     "text": [
      "Train loss 0.0067006828824679055\n",
      "Test loss 0.07072699935436248, accuracy 0.9807999730110168\n",
      "Incremented at 0.0067006828824679055, 0.07072699935436248\n"
     ]
    },
    {
     "data": {
      "application/vnd.jupyter.widget-view+json": {
       "model_id": "60dda4756a67416d88b330469562c311",
       "version_major": 2,
       "version_minor": 0
      },
      "text/plain": [
       "  0%|          | 0/59 [00:00<?, ?it/s]"
      ]
     },
     "metadata": {},
     "output_type": "display_data"
    },
    {
     "name": "stdout",
     "output_type": "stream",
     "text": [
      "Train loss 0.0044878551177680494\n",
      "Test loss 0.07583066654205323, accuracy 0.9799000024795532\n",
      "Incremented at 0.0044878551177680494, 0.07583066654205323\n"
     ]
    },
    {
     "data": {
      "application/vnd.jupyter.widget-view+json": {
       "model_id": "beef9a4088184e90ab6b7abfdcf0aa48",
       "version_major": 2,
       "version_minor": 0
      },
      "text/plain": [
       "  0%|          | 0/59 [00:00<?, ?it/s]"
      ]
     },
     "metadata": {},
     "output_type": "display_data"
    },
    {
     "name": "stdout",
     "output_type": "stream",
     "text": [
      "Train loss 0.004311835327992837\n",
      "Test loss 0.07138474003076553, accuracy 0.9814000129699707\n",
      "Incremented at 0.004311835327992837, 0.07138474003076553\n",
      "Stopping early at 18 epoch\n",
      "Training process has finished.\n"
     ]
    },
    {
     "data": {
      "image/png": "[encoded data removed]",
      "text/plain": [
       "<Figure size 640x480 with 2 Axes>"
      ]
     },
     "metadata": {},
     "output_type": "display_data"
    }
   ],
   "source": [
    "fig, (ax1, ax2) = plt.subplots(1, 2)\n",
    "main_early_stopping(50, 1024, ax1, ax2, True)"
   ]
  },
  {
   "cell_type": "code",
   "execution_count": 55,
   "metadata": {},
   "outputs": [
    {
     "data": {
      "application/vnd.jupyter.widget-view+json": {
       "model_id": "ebc47b15264f4153b4f82485aafdefaf",
       "version_major": 2,
       "version_minor": 0
      },
      "text/plain": [
       "  0%|          | 0/59 [00:00<?, ?it/s]"
      ]
     },
     "metadata": {},
     "output_type": "display_data"
    },
    {
     "name": "stdout",
     "output_type": "stream",
     "text": [
      "Train loss 0.6922905190229416\n",
      "Test loss 0.2671815396308899, accuracy 0.9207000136375427\n"
     ]
    },
    {
     "data": {
      "application/vnd.jupyter.widget-view+json": {
       "model_id": "a438ba12930e4e789167de89a69e0f48",
       "version_major": 2,
       "version_minor": 0
      },
      "text/plain": [
       "  0%|          | 0/59 [00:00<?, ?it/s]"
      ]
     },
     "metadata": {},
     "output_type": "display_data"
    },
    {
     "name": "stdout",
     "output_type": "stream",
     "text": [
      "Train loss 0.23059694436391195\n",
      "Test loss 0.18121679973602295, accuracy 0.9462000131607056\n"
     ]
    },
    {
     "data": {
      "application/vnd.jupyter.widget-view+json": {
       "model_id": "2f7227fde9e94a0eafb8ffa3c80b1594",
       "version_major": 2,
       "version_minor": 0
      },
      "text/plain": [
       "  0%|          | 0/59 [00:00<?, ?it/s]"
      ]
     },
     "metadata": {},
     "output_type": "display_data"
    },
    {
     "name": "stdout",
     "output_type": "stream",
     "text": [
      "Train loss 0.15490252708594004\n",
      "Test loss 0.13557558531761169, accuracy 0.9581999778747559\n"
     ]
    },
    {
     "data": {
      "application/vnd.jupyter.widget-view+json": {
       "model_id": "a79a59e2a4bb4dcbab73f9e7d903f4f5",
       "version_major": 2,
       "version_minor": 0
      },
      "text/plain": [
       "  0%|          | 0/59 [00:00<?, ?it/s]"
      ]
     },
     "metadata": {},
     "output_type": "display_data"
    },
    {
     "name": "stdout",
     "output_type": "stream",
     "text": [
      "Train loss 0.11641225678126017\n",
      "Test loss 0.11911235554218293, accuracy 0.9629999995231628\n"
     ]
    },
    {
     "data": {
      "application/vnd.jupyter.widget-view+json": {
       "model_id": "f4a2261c5c084138b1ec6d0a881c9424",
       "version_major": 2,
       "version_minor": 0
      },
      "text/plain": [
       "  0%|          | 0/59 [00:00<?, ?it/s]"
      ]
     },
     "metadata": {},
     "output_type": "display_data"
    },
    {
     "name": "stdout",
     "output_type": "stream",
     "text": [
      "Train loss 0.08779047961235047\n",
      "Test loss 0.09834123198986053, accuracy 0.9688000082969666\n"
     ]
    },
    {
     "data": {
      "application/vnd.jupyter.widget-view+json": {
       "model_id": "08a2d92ac61b405bb2d92dddcba1a0e2",
       "version_major": 2,
       "version_minor": 0
      },
      "text/plain": [
       "  0%|          | 0/59 [00:00<?, ?it/s]"
      ]
     },
     "metadata": {},
     "output_type": "display_data"
    },
    {
     "name": "stdout",
     "output_type": "stream",
     "text": [
      "Train loss 0.06835397092501322\n",
      "Test loss 0.08707780066728592, accuracy 0.9729999899864197\n"
     ]
    },
    {
     "data": {
      "application/vnd.jupyter.widget-view+json": {
       "model_id": "4d5a09c8bfa6426bb7337a1a2dd8864f",
       "version_major": 2,
       "version_minor": 0
      },
      "text/plain": [
       "  0%|          | 0/59 [00:00<?, ?it/s]"
      ]
     },
     "metadata": {},
     "output_type": "display_data"
    },
    {
     "name": "stdout",
     "output_type": "stream",
     "text": [
      "Train loss 0.05520719936688741\n",
      "Test loss 0.08009989447593689, accuracy 0.9763000011444092\n"
     ]
    },
    {
     "data": {
      "application/vnd.jupyter.widget-view+json": {
       "model_id": "45881ce590cd4c378869d2f957fe079b",
       "version_major": 2,
       "version_minor": 0
      },
      "text/plain": [
       "  0%|          | 0/59 [00:00<?, ?it/s]"
      ]
     },
     "metadata": {},
     "output_type": "display_data"
    },
    {
     "name": "stdout",
     "output_type": "stream",
     "text": [
      "Train loss 0.044923298984766005\n",
      "Test loss 0.07290133014917374, accuracy 0.9764000177383423\n"
     ]
    },
    {
     "data": {
      "application/vnd.jupyter.widget-view+json": {
       "model_id": "874fd84c7bf649d1ae8e4b86dac5fa72",
       "version_major": 2,
       "version_minor": 0
      },
      "text/plain": [
       "  0%|          | 0/59 [00:00<?, ?it/s]"
      ]
     },
     "metadata": {},
     "output_type": "display_data"
    },
    {
     "name": "stdout",
     "output_type": "stream",
     "text": [
      "Train loss 0.03554115667939186\n",
      "Test loss 0.0709077486038208, accuracy 0.9779000282287598\n"
     ]
    },
    {
     "data": {
      "application/vnd.jupyter.widget-view+json": {
       "model_id": "d991195fa0f7456b82555215dee9cc5d",
       "version_major": 2,
       "version_minor": 0
      },
      "text/plain": [
       "  0%|          | 0/59 [00:00<?, ?it/s]"
      ]
     },
     "metadata": {},
     "output_type": "display_data"
    },
    {
     "name": "stdout",
     "output_type": "stream",
     "text": [
      "Train loss 0.02929356518983841\n",
      "Test loss 0.07122161427736283, accuracy 0.9793999791145325\n"
     ]
    },
    {
     "data": {
      "application/vnd.jupyter.widget-view+json": {
       "model_id": "d381ef09cad74b12b5b7a590560b3e63",
       "version_major": 2,
       "version_minor": 0
      },
      "text/plain": [
       "  0%|          | 0/59 [00:00<?, ?it/s]"
      ]
     },
     "metadata": {},
     "output_type": "display_data"
    },
    {
     "name": "stdout",
     "output_type": "stream",
     "text": [
      "Train loss 0.022449117965002853\n",
      "Test loss 0.07070438976287842, accuracy 0.9790999889373779\n"
     ]
    },
    {
     "data": {
      "application/vnd.jupyter.widget-view+json": {
       "model_id": "584eb2b6614745e8ba4312b8523ee21c",
       "version_major": 2,
       "version_minor": 0
      },
      "text/plain": [
       "  0%|          | 0/59 [00:00<?, ?it/s]"
      ]
     },
     "metadata": {},
     "output_type": "display_data"
    },
    {
     "name": "stdout",
     "output_type": "stream",
     "text": [
      "Train loss 0.018064526850978535\n",
      "Test loss 0.06915132513046264, accuracy 0.9796000123023987\n"
     ]
    },
    {
     "data": {
      "application/vnd.jupyter.widget-view+json": {
       "model_id": "7704c3336a4444b1b54647b69741df4e",
       "version_major": 2,
       "version_minor": 0
      },
      "text/plain": [
       "  0%|          | 0/59 [00:00<?, ?it/s]"
      ]
     },
     "metadata": {},
     "output_type": "display_data"
    },
    {
     "name": "stdout",
     "output_type": "stream",
     "text": [
      "Train loss 0.015060363930463791\n",
      "Test loss 0.06687109904289246, accuracy 0.9796000123023987\n"
     ]
    },
    {
     "data": {
      "application/vnd.jupyter.widget-view+json": {
       "model_id": "8146e3f6281e41dfb5172499b527eff6",
       "version_major": 2,
       "version_minor": 0
      },
      "text/plain": [
       "  0%|          | 0/59 [00:00<?, ?it/s]"
      ]
     },
     "metadata": {},
     "output_type": "display_data"
    },
    {
     "name": "stdout",
     "output_type": "stream",
     "text": [
      "Train loss 0.011930238923927148\n",
      "Test loss 0.07138455109596252, accuracy 0.980400025844574\n"
     ]
    },
    {
     "data": {
      "application/vnd.jupyter.widget-view+json": {
       "model_id": "159f5176cb0f413d86ca9fdc9872ccc7",
       "version_major": 2,
       "version_minor": 0
      },
      "text/plain": [
       "  0%|          | 0/59 [00:00<?, ?it/s]"
      ]
     },
     "metadata": {},
     "output_type": "display_data"
    },
    {
     "name": "stdout",
     "output_type": "stream",
     "text": [
      "Train loss 0.009136296570797762\n",
      "Test loss 0.06920496764183044, accuracy 0.9807000160217285\n"
     ]
    },
    {
     "data": {
      "application/vnd.jupyter.widget-view+json": {
       "model_id": "218d3f4d643d4ccda3170db70f2639ea",
       "version_major": 2,
       "version_minor": 0
      },
      "text/plain": [
       "  0%|          | 0/59 [00:00<?, ?it/s]"
      ]
     },
     "metadata": {},
     "output_type": "display_data"
    },
    {
     "name": "stdout",
     "output_type": "stream",
     "text": [
      "Train loss 0.0075636799861987436\n",
      "Test loss 0.07277757799625396, accuracy 0.9803000092506409\n"
     ]
    },
    {
     "data": {
      "application/vnd.jupyter.widget-view+json": {
       "model_id": "22862a09eeb44b998516278b7f74782e",
       "version_major": 2,
       "version_minor": 0
      },
      "text/plain": [
       "  0%|          | 0/59 [00:00<?, ?it/s]"
      ]
     },
     "metadata": {},
     "output_type": "display_data"
    },
    {
     "name": "stdout",
     "output_type": "stream",
     "text": [
      "Train loss 0.0067006828824679055\n",
      "Test loss 0.07072699935436248, accuracy 0.9807999730110168\n"
     ]
    },
    {
     "data": {
      "application/vnd.jupyter.widget-view+json": {
       "model_id": "07d44cf8c1cd4ec98c74a989547880e8",
       "version_major": 2,
       "version_minor": 0
      },
      "text/plain": [
       "  0%|          | 0/59 [00:00<?, ?it/s]"
      ]
     },
     "metadata": {},
     "output_type": "display_data"
    },
    {
     "name": "stdout",
     "output_type": "stream",
     "text": [
      "Train loss 0.0044878551177680494\n",
      "Test loss 0.07583066654205323, accuracy 0.9799000024795532\n"
     ]
    },
    {
     "data": {
      "application/vnd.jupyter.widget-view+json": {
       "model_id": "c30ff9ed9a0146b79fdab18d608ca44d",
       "version_major": 2,
       "version_minor": 0
      },
      "text/plain": [
       "  0%|          | 0/59 [00:00<?, ?it/s]"
      ]
     },
     "metadata": {},
     "output_type": "display_data"
    },
    {
     "name": "stdout",
     "output_type": "stream",
     "text": [
      "Train loss 0.004311835327992837\n",
      "Test loss 0.07138474003076553, accuracy 0.9814000129699707\n"
     ]
    },
    {
     "data": {
      "application/vnd.jupyter.widget-view+json": {
       "model_id": "015894eb65f2493dae47ad45aabad437",
       "version_major": 2,
       "version_minor": 0
      },
      "text/plain": [
       "  0%|          | 0/59 [00:00<?, ?it/s]"
      ]
     },
     "metadata": {},
     "output_type": "display_data"
    },
    {
     "name": "stdout",
     "output_type": "stream",
     "text": [
      "Train loss 0.004205347775916258\n",
      "Test loss 0.0863474924325943, accuracy 0.9803000092506409\n"
     ]
    },
    {
     "data": {
      "application/vnd.jupyter.widget-view+json": {
       "model_id": "51bbb48a51fe43f3bc6fcf425d35bc54",
       "version_major": 2,
       "version_minor": 0
      },
      "text/plain": [
       "  0%|          | 0/59 [00:00<?, ?it/s]"
      ]
     },
     "metadata": {},
     "output_type": "display_data"
    },
    {
     "name": "stdout",
     "output_type": "stream",
     "text": [
      "Train loss 0.0033234983826677003\n",
      "Test loss 0.07444653961658478, accuracy 0.9824000000953674\n"
     ]
    },
    {
     "data": {
      "application/vnd.jupyter.widget-view+json": {
       "model_id": "9bafffb348ca4f2893ad15562c79f603",
       "version_major": 2,
       "version_minor": 0
      },
      "text/plain": [
       "  0%|          | 0/59 [00:00<?, ?it/s]"
      ]
     },
     "metadata": {},
     "output_type": "display_data"
    },
    {
     "name": "stdout",
     "output_type": "stream",
     "text": [
      "Train loss 0.001329832146471987\n",
      "Test loss 0.07473553982973098, accuracy 0.9822999835014343\n"
     ]
    },
    {
     "data": {
      "application/vnd.jupyter.widget-view+json": {
       "model_id": "fb14a6dcd7eb4766beb2d0808b7b941a",
       "version_major": 2,
       "version_minor": 0
      },
      "text/plain": [
       "  0%|          | 0/59 [00:00<?, ?it/s]"
      ]
     },
     "metadata": {},
     "output_type": "display_data"
    },
    {
     "name": "stdout",
     "output_type": "stream",
     "text": [
      "Train loss 0.0008436840258538722\n",
      "Test loss 0.0750515127658844, accuracy 0.9825000166893005\n"
     ]
    },
    {
     "data": {
      "application/vnd.jupyter.widget-view+json": {
       "model_id": "6f6af7916fd34019bb6b6f74aeccb7dd",
       "version_major": 2,
       "version_minor": 0
      },
      "text/plain": [
       "  0%|          | 0/59 [00:00<?, ?it/s]"
      ]
     },
     "metadata": {},
     "output_type": "display_data"
    },
    {
     "name": "stdout",
     "output_type": "stream",
     "text": [
      "Train loss 0.0006549607415373127\n",
      "Test loss 0.07584849858283997, accuracy 0.9825000166893005\n"
     ]
    },
    {
     "data": {
      "application/vnd.jupyter.widget-view+json": {
       "model_id": "2d001b733df641a3b5285d078e3b8178",
       "version_major": 2,
       "version_minor": 0
      },
      "text/plain": [
       "  0%|          | 0/59 [00:00<?, ?it/s]"
      ]
     },
     "metadata": {},
     "output_type": "display_data"
    },
    {
     "name": "stdout",
     "output_type": "stream",
     "text": [
      "Train loss 0.0005589577209204436\n",
      "Test loss 0.07670248789787293, accuracy 0.9825999736785889\n"
     ]
    },
    {
     "data": {
      "application/vnd.jupyter.widget-view+json": {
       "model_id": "95f429bdb9f44bbb82371e3d383c6f20",
       "version_major": 2,
       "version_minor": 0
      },
      "text/plain": [
       "  0%|          | 0/59 [00:00<?, ?it/s]"
      ]
     },
     "metadata": {},
     "output_type": "display_data"
    },
    {
     "name": "stdout",
     "output_type": "stream",
     "text": [
      "Train loss 0.0004602778134867549\n",
      "Test loss 0.07702529728412628, accuracy 0.9832000136375427\n"
     ]
    },
    {
     "data": {
      "application/vnd.jupyter.widget-view+json": {
       "model_id": "12f9400efa6b447c8dd68a2b4d022d78",
       "version_major": 2,
       "version_minor": 0
      },
      "text/plain": [
       "  0%|          | 0/59 [00:00<?, ?it/s]"
      ]
     },
     "metadata": {},
     "output_type": "display_data"
    },
    {
     "name": "stdout",
     "output_type": "stream",
     "text": [
      "Train loss 0.00043337855787637335\n",
      "Test loss 0.07913266649246216, accuracy 0.9825000166893005\n"
     ]
    },
    {
     "data": {
      "application/vnd.jupyter.widget-view+json": {
       "model_id": "5a4e64b3bc13435e85d2f80dcce021c0",
       "version_major": 2,
       "version_minor": 0
      },
      "text/plain": [
       "  0%|          | 0/59 [00:00<?, ?it/s]"
      ]
     },
     "metadata": {},
     "output_type": "display_data"
    },
    {
     "name": "stdout",
     "output_type": "stream",
     "text": [
      "Train loss 0.00037035783560325703\n",
      "Test loss 0.08016109368801116, accuracy 0.9825000166893005\n"
     ]
    },
    {
     "data": {
      "application/vnd.jupyter.widget-view+json": {
       "model_id": "528dd8b48dca48f4b5ee4f6c4ceaf845",
       "version_major": 2,
       "version_minor": 0
      },
      "text/plain": [
       "  0%|          | 0/59 [00:00<?, ?it/s]"
      ]
     },
     "metadata": {},
     "output_type": "display_data"
    },
    {
     "name": "stdout",
     "output_type": "stream",
     "text": [
      "Train loss 0.0003336271752137691\n",
      "Test loss 0.08025055609941482, accuracy 0.9819999933242798\n"
     ]
    },
    {
     "data": {
      "application/vnd.jupyter.widget-view+json": {
       "model_id": "7a03eaaa4f7a4a41b0714972b2fd65f8",
       "version_major": 2,
       "version_minor": 0
      },
      "text/plain": [
       "  0%|          | 0/59 [00:00<?, ?it/s]"
      ]
     },
     "metadata": {},
     "output_type": "display_data"
    },
    {
     "name": "stdout",
     "output_type": "stream",
     "text": [
      "Train loss 0.0003054429283676048\n",
      "Test loss 0.08069982920885085, accuracy 0.982699990272522\n"
     ]
    },
    {
     "data": {
      "application/vnd.jupyter.widget-view+json": {
       "model_id": "a09539ad6dbd4d38b147b6e8e93eb7fa",
       "version_major": 2,
       "version_minor": 0
      },
      "text/plain": [
       "  0%|          | 0/59 [00:00<?, ?it/s]"
      ]
     },
     "metadata": {},
     "output_type": "display_data"
    },
    {
     "name": "stdout",
     "output_type": "stream",
     "text": [
      "Train loss 0.00028201163463915387\n",
      "Test loss 0.0816513177394867, accuracy 0.982699990272522\n"
     ]
    },
    {
     "data": {
      "application/vnd.jupyter.widget-view+json": {
       "model_id": "75946232020543f88a136b7c40302f9d",
       "version_major": 2,
       "version_minor": 0
      },
      "text/plain": [
       "  0%|          | 0/59 [00:00<?, ?it/s]"
      ]
     },
     "metadata": {},
     "output_type": "display_data"
    },
    {
     "name": "stdout",
     "output_type": "stream",
     "text": [
      "Train loss 0.00025720930113457143\n",
      "Test loss 0.08143270354270934, accuracy 0.9829999804496765\n"
     ]
    },
    {
     "data": {
      "application/vnd.jupyter.widget-view+json": {
       "model_id": "9aff13dbe6c7407e835f9804592bfc44",
       "version_major": 2,
       "version_minor": 0
      },
      "text/plain": [
       "  0%|          | 0/59 [00:00<?, ?it/s]"
      ]
     },
     "metadata": {},
     "output_type": "display_data"
    },
    {
     "name": "stdout",
     "output_type": "stream",
     "text": [
      "Train loss 0.0002378497129228587\n",
      "Test loss 0.08166155377626419, accuracy 0.9830999970436096\n"
     ]
    },
    {
     "data": {
      "application/vnd.jupyter.widget-view+json": {
       "model_id": "e142763dce734ba1bf0c70270d2c7f9e",
       "version_major": 2,
       "version_minor": 0
      },
      "text/plain": [
       "  0%|          | 0/59 [00:00<?, ?it/s]"
      ]
     },
     "metadata": {},
     "output_type": "display_data"
    },
    {
     "name": "stdout",
     "output_type": "stream",
     "text": [
      "Train loss 0.0002144422284560278\n",
      "Test loss 0.08383343396186829, accuracy 0.9824000000953674\n"
     ]
    },
    {
     "data": {
      "application/vnd.jupyter.widget-view+json": {
       "model_id": "cfb7a46d173a419bba87718393370a24",
       "version_major": 2,
       "version_minor": 0
      },
      "text/plain": [
       "  0%|          | 0/59 [00:00<?, ?it/s]"
      ]
     },
     "metadata": {},
     "output_type": "display_data"
    },
    {
     "name": "stdout",
     "output_type": "stream",
     "text": [
      "Train loss 0.00019940316127613187\n",
      "Test loss 0.08409604932069778, accuracy 0.9828000068664551\n"
     ]
    },
    {
     "data": {
      "application/vnd.jupyter.widget-view+json": {
       "model_id": "35fb3d3cc0854021bfd2b65bed136420",
       "version_major": 2,
       "version_minor": 0
      },
      "text/plain": [
       "  0%|          | 0/59 [00:00<?, ?it/s]"
      ]
     },
     "metadata": {},
     "output_type": "display_data"
    },
    {
     "name": "stdout",
     "output_type": "stream",
     "text": [
      "Train loss 0.00018697171645859877\n",
      "Test loss 0.0844496770977974, accuracy 0.9824000000953674\n"
     ]
    },
    {
     "data": {
      "application/vnd.jupyter.widget-view+json": {
       "model_id": "44693b112d6d472a91472b95fd22eaee",
       "version_major": 2,
       "version_minor": 0
      },
      "text/plain": [
       "  0%|          | 0/59 [00:00<?, ?it/s]"
      ]
     },
     "metadata": {},
     "output_type": "display_data"
    },
    {
     "name": "stdout",
     "output_type": "stream",
     "text": [
      "Train loss 0.00017403521372471006\n",
      "Test loss 0.08485609431266784, accuracy 0.9825999736785889\n"
     ]
    },
    {
     "data": {
      "application/vnd.jupyter.widget-view+json": {
       "model_id": "2ae854f7070a4f27b63fbe93f234a115",
       "version_major": 2,
       "version_minor": 0
      },
      "text/plain": [
       "  0%|          | 0/59 [00:00<?, ?it/s]"
      ]
     },
     "metadata": {},
     "output_type": "display_data"
    },
    {
     "name": "stdout",
     "output_type": "stream",
     "text": [
      "Train loss 0.00016110949392120043\n",
      "Test loss 0.08624810934066772, accuracy 0.9825999736785889\n"
     ]
    },
    {
     "data": {
      "application/vnd.jupyter.widget-view+json": {
       "model_id": "e38e407f482d462892f3b45c8db5859b",
       "version_major": 2,
       "version_minor": 0
      },
      "text/plain": [
       "  0%|          | 0/59 [00:00<?, ?it/s]"
      ]
     },
     "metadata": {},
     "output_type": "display_data"
    },
    {
     "name": "stdout",
     "output_type": "stream",
     "text": [
      "Train loss 0.00015082851227295275\n",
      "Test loss 0.08591969225406647, accuracy 0.982699990272522\n"
     ]
    },
    {
     "data": {
      "application/vnd.jupyter.widget-view+json": {
       "model_id": "15144724f8f643cfb87639be8bf3db49",
       "version_major": 2,
       "version_minor": 0
      },
      "text/plain": [
       "  0%|          | 0/59 [00:00<?, ?it/s]"
      ]
     },
     "metadata": {},
     "output_type": "display_data"
    },
    {
     "name": "stdout",
     "output_type": "stream",
     "text": [
      "Train loss 0.00014157799373691282\n",
      "Test loss 0.08661243835687638, accuracy 0.9824000000953674\n"
     ]
    },
    {
     "data": {
      "application/vnd.jupyter.widget-view+json": {
       "model_id": "28631243e36e4144a65b63168b21fb90",
       "version_major": 2,
       "version_minor": 0
      },
      "text/plain": [
       "  0%|          | 0/59 [00:00<?, ?it/s]"
      ]
     },
     "metadata": {},
     "output_type": "display_data"
    },
    {
     "name": "stdout",
     "output_type": "stream",
     "text": [
      "Train loss 0.00013133867270080372\n",
      "Test loss 0.08715504423379898, accuracy 0.9824000000953674\n"
     ]
    },
    {
     "data": {
      "application/vnd.jupyter.widget-view+json": {
       "model_id": "e7b94e02fabb4fca8848bb5de43f10c0",
       "version_major": 2,
       "version_minor": 0
      },
      "text/plain": [
       "  0%|          | 0/59 [00:00<?, ?it/s]"
      ]
     },
     "metadata": {},
     "output_type": "display_data"
    },
    {
     "name": "stdout",
     "output_type": "stream",
     "text": [
      "Train loss 0.00012718316961545496\n",
      "Test loss 0.08758819628953934, accuracy 0.9825999736785889\n"
     ]
    },
    {
     "data": {
      "application/vnd.jupyter.widget-view+json": {
       "model_id": "f6d0fdd67419465a99261fe035f05ac5",
       "version_major": 2,
       "version_minor": 0
      },
      "text/plain": [
       "  0%|          | 0/59 [00:00<?, ?it/s]"
      ]
     },
     "metadata": {},
     "output_type": "display_data"
    },
    {
     "name": "stdout",
     "output_type": "stream",
     "text": [
      "Train loss 0.00011686601324472577\n",
      "Test loss 0.08797756592035294, accuracy 0.9825999736785889\n"
     ]
    },
    {
     "data": {
      "application/vnd.jupyter.widget-view+json": {
       "model_id": "40b955824963462dbb397bed1813c370",
       "version_major": 2,
       "version_minor": 0
      },
      "text/plain": [
       "  0%|          | 0/59 [00:00<?, ?it/s]"
      ]
     },
     "metadata": {},
     "output_type": "display_data"
    },
    {
     "name": "stdout",
     "output_type": "stream",
     "text": [
      "Train loss 0.00010984871612939363\n",
      "Test loss 0.08857508071660995, accuracy 0.9825999736785889\n"
     ]
    },
    {
     "data": {
      "application/vnd.jupyter.widget-view+json": {
       "model_id": "810676b7d8c74fa59345432d9bb0cbf0",
       "version_major": 2,
       "version_minor": 0
      },
      "text/plain": [
       "  0%|          | 0/59 [00:00<?, ?it/s]"
      ]
     },
     "metadata": {},
     "output_type": "display_data"
    },
    {
     "name": "stdout",
     "output_type": "stream",
     "text": [
      "Train loss 0.00010356384015952547\n",
      "Test loss 0.08899590482711792, accuracy 0.9824000000953674\n"
     ]
    },
    {
     "data": {
      "application/vnd.jupyter.widget-view+json": {
       "model_id": "0f952d56c53a46539443a326c5c8b904",
       "version_major": 2,
       "version_minor": 0
      },
      "text/plain": [
       "  0%|          | 0/59 [00:00<?, ?it/s]"
      ]
     },
     "metadata": {},
     "output_type": "display_data"
    },
    {
     "name": "stdout",
     "output_type": "stream",
     "text": [
      "Train loss 9.744389588013292e-05\n",
      "Test loss 0.08951612536907196, accuracy 0.9825000166893005\n"
     ]
    },
    {
     "data": {
      "application/vnd.jupyter.widget-view+json": {
       "model_id": "eba1ebddcd2b4c24945dd98455a16143",
       "version_major": 2,
       "version_minor": 0
      },
      "text/plain": [
       "  0%|          | 0/59 [00:00<?, ?it/s]"
      ]
     },
     "metadata": {},
     "output_type": "display_data"
    },
    {
     "name": "stdout",
     "output_type": "stream",
     "text": [
      "Train loss 9.216395273494224e-05\n",
      "Test loss 0.08965914767980576, accuracy 0.9825999736785889\n"
     ]
    },
    {
     "data": {
      "application/vnd.jupyter.widget-view+json": {
       "model_id": "6828b26d0ade4f679caeb1ae7af92bce",
       "version_major": 2,
       "version_minor": 0
      },
      "text/plain": [
       "  0%|          | 0/59 [00:00<?, ?it/s]"
      ]
     },
     "metadata": {},
     "output_type": "display_data"
    },
    {
     "name": "stdout",
     "output_type": "stream",
     "text": [
      "Train loss 8.743757591582834e-05\n",
      "Test loss 0.09052774795293808, accuracy 0.9825999736785889\n"
     ]
    },
    {
     "data": {
      "application/vnd.jupyter.widget-view+json": {
       "model_id": "39a1e90cd597483782d4343f684bbd12",
       "version_major": 2,
       "version_minor": 0
      },
      "text/plain": [
       "  0%|          | 0/59 [00:00<?, ?it/s]"
      ]
     },
     "metadata": {},
     "output_type": "display_data"
    },
    {
     "name": "stdout",
     "output_type": "stream",
     "text": [
      "Train loss 8.185242431548734e-05\n",
      "Test loss 0.09077399879693986, accuracy 0.9824000000953674\n"
     ]
    },
    {
     "data": {
      "application/vnd.jupyter.widget-view+json": {
       "model_id": "b90f9bed4cfc48ffbc5dc29824ea9ded",
       "version_major": 2,
       "version_minor": 0
      },
      "text/plain": [
       "  0%|          | 0/59 [00:00<?, ?it/s]"
      ]
     },
     "metadata": {},
     "output_type": "display_data"
    },
    {
     "name": "stdout",
     "output_type": "stream",
     "text": [
      "Train loss 7.73251978176025e-05\n",
      "Test loss 0.09125325417518616, accuracy 0.982699990272522\n",
      "Training process has finished.\n"
     ]
    },
    {
     "data": {
      "image/png": "[encoded data removed]",
      "text/plain": [
       "<Figure size 640x480 with 2 Axes>"
      ]
     },
     "metadata": {},
     "output_type": "display_data"
    }
   ],
   "source": [
    "fig, (ax1, ax2) = plt.subplots(1, 2)\n",
    "main_early_stopping(50, 1024, ax1, ax2, False)"
   ]
  },
  {
   "cell_type": "code",
   "execution_count": null,
   "metadata": {},
   "outputs": [],
   "source": []
  }
 ],
 "metadata": {
  "kernelspec": {
   "display_name": "Python 3.10.6 ('torch')",
   "language": "python",
   "name": "python3"
  },
  "language_info": {
   "codemirror_mode": {
    "name": "ipython",
    "version": 3
   },
   "file_extension": ".py",
   "mimetype": "text/x-python",
   "name": "python",
   "nbconvert_exporter": "python",
   "pygments_lexer": "ipython3",
   "version": "3.10.6"
  },
  "orig_nbformat": 4,
  "vscode": {
   "interpreter": {
    "hash": "25e51f0b4726ece1ea944612e9e120ba2af65e9ae9d80ae5bc22d7939e16735d"
   }
  }
 },
 "nbformat": 4,
 "nbformat_minor": 2
}
